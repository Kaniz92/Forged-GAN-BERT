{
  "nbformat": 4,
  "nbformat_minor": 0,
  "metadata": {
    "colab": {
      "provenance": [],
      "authorship_tag": "ABX9TyOIuPT6fg2bW57g/eRiRYnz",
      "include_colab_link": true
    },
    "kernelspec": {
      "name": "python3",
      "display_name": "Python 3"
    },
    "language_info": {
      "name": "python"
    },
    "accelerator": "GPU",
    "gpuClass": "standard",
    "widgets": {
      "application/vnd.jupyter.widget-state+json": {
        "2efd38546ca34d46987fe35e76194d05": {
          "model_module": "@jupyter-widgets/controls",
          "model_name": "HBoxModel",
          "model_module_version": "1.5.0",
          "state": {
            "_dom_classes": [],
            "_model_module": "@jupyter-widgets/controls",
            "_model_module_version": "1.5.0",
            "_model_name": "HBoxModel",
            "_view_count": null,
            "_view_module": "@jupyter-widgets/controls",
            "_view_module_version": "1.5.0",
            "_view_name": "HBoxView",
            "box_style": "",
            "children": [
              "IPY_MODEL_cc32f63f25e44d2ca593237045d6fd4f",
              "IPY_MODEL_2cac3b697a3e4884895757e94bd732b1",
              "IPY_MODEL_7979ab16b1b344378dbb90034f9c2ae8"
            ],
            "layout": "IPY_MODEL_91487a43a2a34572b21495575c738b2e"
          }
        },
        "cc32f63f25e44d2ca593237045d6fd4f": {
          "model_module": "@jupyter-widgets/controls",
          "model_name": "HTMLModel",
          "model_module_version": "1.5.0",
          "state": {
            "_dom_classes": [],
            "_model_module": "@jupyter-widgets/controls",
            "_model_module_version": "1.5.0",
            "_model_name": "HTMLModel",
            "_view_count": null,
            "_view_module": "@jupyter-widgets/controls",
            "_view_module_version": "1.5.0",
            "_view_name": "HTMLView",
            "description": "",
            "description_tooltip": null,
            "layout": "IPY_MODEL_249d7943c0534216a1b99e0bcb3b8913",
            "placeholder": "​",
            "style": "IPY_MODEL_1281235fdb9b4faa8907de4fcdd74616",
            "value": "100%"
          }
        },
        "2cac3b697a3e4884895757e94bd732b1": {
          "model_module": "@jupyter-widgets/controls",
          "model_name": "FloatProgressModel",
          "model_module_version": "1.5.0",
          "state": {
            "_dom_classes": [],
            "_model_module": "@jupyter-widgets/controls",
            "_model_module_version": "1.5.0",
            "_model_name": "FloatProgressModel",
            "_view_count": null,
            "_view_module": "@jupyter-widgets/controls",
            "_view_module_version": "1.5.0",
            "_view_name": "ProgressView",
            "bar_style": "success",
            "description": "",
            "description_tooltip": null,
            "layout": "IPY_MODEL_75a8eddd415c4eaf88bf86c3eaa5aec2",
            "max": 3,
            "min": 0,
            "orientation": "horizontal",
            "style": "IPY_MODEL_8bfcda26308f49a4bc737d8d219810cc",
            "value": 3
          }
        },
        "7979ab16b1b344378dbb90034f9c2ae8": {
          "model_module": "@jupyter-widgets/controls",
          "model_name": "HTMLModel",
          "model_module_version": "1.5.0",
          "state": {
            "_dom_classes": [],
            "_model_module": "@jupyter-widgets/controls",
            "_model_module_version": "1.5.0",
            "_model_name": "HTMLModel",
            "_view_count": null,
            "_view_module": "@jupyter-widgets/controls",
            "_view_module_version": "1.5.0",
            "_view_name": "HTMLView",
            "description": "",
            "description_tooltip": null,
            "layout": "IPY_MODEL_60592e5850a84e5e8dd88a80ce4c6cf9",
            "placeholder": "​",
            "style": "IPY_MODEL_c6f1730281e54dffbc0d90ab810cf651",
            "value": " 3/3 [00:00&lt;00:00, 120.66it/s]"
          }
        },
        "91487a43a2a34572b21495575c738b2e": {
          "model_module": "@jupyter-widgets/base",
          "model_name": "LayoutModel",
          "model_module_version": "1.2.0",
          "state": {
            "_model_module": "@jupyter-widgets/base",
            "_model_module_version": "1.2.0",
            "_model_name": "LayoutModel",
            "_view_count": null,
            "_view_module": "@jupyter-widgets/base",
            "_view_module_version": "1.2.0",
            "_view_name": "LayoutView",
            "align_content": null,
            "align_items": null,
            "align_self": null,
            "border": null,
            "bottom": null,
            "display": null,
            "flex": null,
            "flex_flow": null,
            "grid_area": null,
            "grid_auto_columns": null,
            "grid_auto_flow": null,
            "grid_auto_rows": null,
            "grid_column": null,
            "grid_gap": null,
            "grid_row": null,
            "grid_template_areas": null,
            "grid_template_columns": null,
            "grid_template_rows": null,
            "height": null,
            "justify_content": null,
            "justify_items": null,
            "left": null,
            "margin": null,
            "max_height": null,
            "max_width": null,
            "min_height": null,
            "min_width": null,
            "object_fit": null,
            "object_position": null,
            "order": null,
            "overflow": null,
            "overflow_x": null,
            "overflow_y": null,
            "padding": null,
            "right": null,
            "top": null,
            "visibility": null,
            "width": null
          }
        },
        "249d7943c0534216a1b99e0bcb3b8913": {
          "model_module": "@jupyter-widgets/base",
          "model_name": "LayoutModel",
          "model_module_version": "1.2.0",
          "state": {
            "_model_module": "@jupyter-widgets/base",
            "_model_module_version": "1.2.0",
            "_model_name": "LayoutModel",
            "_view_count": null,
            "_view_module": "@jupyter-widgets/base",
            "_view_module_version": "1.2.0",
            "_view_name": "LayoutView",
            "align_content": null,
            "align_items": null,
            "align_self": null,
            "border": null,
            "bottom": null,
            "display": null,
            "flex": null,
            "flex_flow": null,
            "grid_area": null,
            "grid_auto_columns": null,
            "grid_auto_flow": null,
            "grid_auto_rows": null,
            "grid_column": null,
            "grid_gap": null,
            "grid_row": null,
            "grid_template_areas": null,
            "grid_template_columns": null,
            "grid_template_rows": null,
            "height": null,
            "justify_content": null,
            "justify_items": null,
            "left": null,
            "margin": null,
            "max_height": null,
            "max_width": null,
            "min_height": null,
            "min_width": null,
            "object_fit": null,
            "object_position": null,
            "order": null,
            "overflow": null,
            "overflow_x": null,
            "overflow_y": null,
            "padding": null,
            "right": null,
            "top": null,
            "visibility": null,
            "width": null
          }
        },
        "1281235fdb9b4faa8907de4fcdd74616": {
          "model_module": "@jupyter-widgets/controls",
          "model_name": "DescriptionStyleModel",
          "model_module_version": "1.5.0",
          "state": {
            "_model_module": "@jupyter-widgets/controls",
            "_model_module_version": "1.5.0",
            "_model_name": "DescriptionStyleModel",
            "_view_count": null,
            "_view_module": "@jupyter-widgets/base",
            "_view_module_version": "1.2.0",
            "_view_name": "StyleView",
            "description_width": ""
          }
        },
        "75a8eddd415c4eaf88bf86c3eaa5aec2": {
          "model_module": "@jupyter-widgets/base",
          "model_name": "LayoutModel",
          "model_module_version": "1.2.0",
          "state": {
            "_model_module": "@jupyter-widgets/base",
            "_model_module_version": "1.2.0",
            "_model_name": "LayoutModel",
            "_view_count": null,
            "_view_module": "@jupyter-widgets/base",
            "_view_module_version": "1.2.0",
            "_view_name": "LayoutView",
            "align_content": null,
            "align_items": null,
            "align_self": null,
            "border": null,
            "bottom": null,
            "display": null,
            "flex": null,
            "flex_flow": null,
            "grid_area": null,
            "grid_auto_columns": null,
            "grid_auto_flow": null,
            "grid_auto_rows": null,
            "grid_column": null,
            "grid_gap": null,
            "grid_row": null,
            "grid_template_areas": null,
            "grid_template_columns": null,
            "grid_template_rows": null,
            "height": null,
            "justify_content": null,
            "justify_items": null,
            "left": null,
            "margin": null,
            "max_height": null,
            "max_width": null,
            "min_height": null,
            "min_width": null,
            "object_fit": null,
            "object_position": null,
            "order": null,
            "overflow": null,
            "overflow_x": null,
            "overflow_y": null,
            "padding": null,
            "right": null,
            "top": null,
            "visibility": null,
            "width": null
          }
        },
        "8bfcda26308f49a4bc737d8d219810cc": {
          "model_module": "@jupyter-widgets/controls",
          "model_name": "ProgressStyleModel",
          "model_module_version": "1.5.0",
          "state": {
            "_model_module": "@jupyter-widgets/controls",
            "_model_module_version": "1.5.0",
            "_model_name": "ProgressStyleModel",
            "_view_count": null,
            "_view_module": "@jupyter-widgets/base",
            "_view_module_version": "1.2.0",
            "_view_name": "StyleView",
            "bar_color": null,
            "description_width": ""
          }
        },
        "60592e5850a84e5e8dd88a80ce4c6cf9": {
          "model_module": "@jupyter-widgets/base",
          "model_name": "LayoutModel",
          "model_module_version": "1.2.0",
          "state": {
            "_model_module": "@jupyter-widgets/base",
            "_model_module_version": "1.2.0",
            "_model_name": "LayoutModel",
            "_view_count": null,
            "_view_module": "@jupyter-widgets/base",
            "_view_module_version": "1.2.0",
            "_view_name": "LayoutView",
            "align_content": null,
            "align_items": null,
            "align_self": null,
            "border": null,
            "bottom": null,
            "display": null,
            "flex": null,
            "flex_flow": null,
            "grid_area": null,
            "grid_auto_columns": null,
            "grid_auto_flow": null,
            "grid_auto_rows": null,
            "grid_column": null,
            "grid_gap": null,
            "grid_row": null,
            "grid_template_areas": null,
            "grid_template_columns": null,
            "grid_template_rows": null,
            "height": null,
            "justify_content": null,
            "justify_items": null,
            "left": null,
            "margin": null,
            "max_height": null,
            "max_width": null,
            "min_height": null,
            "min_width": null,
            "object_fit": null,
            "object_position": null,
            "order": null,
            "overflow": null,
            "overflow_x": null,
            "overflow_y": null,
            "padding": null,
            "right": null,
            "top": null,
            "visibility": null,
            "width": null
          }
        },
        "c6f1730281e54dffbc0d90ab810cf651": {
          "model_module": "@jupyter-widgets/controls",
          "model_name": "DescriptionStyleModel",
          "model_module_version": "1.5.0",
          "state": {
            "_model_module": "@jupyter-widgets/controls",
            "_model_module_version": "1.5.0",
            "_model_name": "DescriptionStyleModel",
            "_view_count": null,
            "_view_module": "@jupyter-widgets/base",
            "_view_module_version": "1.2.0",
            "_view_name": "StyleView",
            "description_width": ""
          }
        }
      }
    }
  },
  "cells": [
    {
      "cell_type": "markdown",
      "metadata": {
        "id": "view-in-github",
        "colab_type": "text"
      },
      "source": [
        "<a href=\"https://colab.research.google.com/github/AA-RGCL/Forged-GAN-BERT/blob/main/notebooks/ChatGPT_AA_Dataset.ipynb\" target=\"_parent\"><img src=\"https://colab.research.google.com/assets/colab-badge.svg\" alt=\"Open In Colab\"/></a>"
      ]
    },
    {
      "cell_type": "markdown",
      "source": [
        "# Generate Dataset"
      ],
      "metadata": {
        "id": "x_GBfy6sy0s_"
      }
    },
    {
      "cell_type": "code",
      "source": [
        "!pip install datasets"
      ],
      "metadata": {
        "colab": {
          "base_uri": "https://localhost:8080/"
        },
        "id": "VUaL0fzcFtat",
        "outputId": "45e33b48-0d0b-4fd1-f263-3b60486fa364"
      },
      "execution_count": null,
      "outputs": [
        {
          "output_type": "stream",
          "name": "stdout",
          "text": [
            "Looking in indexes: https://pypi.org/simple, https://us-python.pkg.dev/colab-wheels/public/simple/\n",
            "Collecting datasets\n",
            "  Downloading datasets-2.11.0-py3-none-any.whl (468 kB)\n",
            "\u001b[2K     \u001b[90m━━━━━━━━━━━━━━━━━━━━━━━━━━━━━━━━━━━━━━\u001b[0m \u001b[32m468.7/468.7 KB\u001b[0m \u001b[31m18.9 MB/s\u001b[0m eta \u001b[36m0:00:00\u001b[0m\n",
            "\u001b[?25hCollecting xxhash\n",
            "  Downloading xxhash-3.2.0-cp39-cp39-manylinux_2_17_x86_64.manylinux2014_x86_64.whl (212 kB)\n",
            "\u001b[2K     \u001b[90m━━━━━━━━━━━━━━━━━━━━━━━━━━━━━━━━━━━━━━\u001b[0m \u001b[32m212.2/212.2 KB\u001b[0m \u001b[31m27.9 MB/s\u001b[0m eta \u001b[36m0:00:00\u001b[0m\n",
            "\u001b[?25hRequirement already satisfied: pandas in /usr/local/lib/python3.9/dist-packages (from datasets) (1.4.4)\n",
            "Requirement already satisfied: packaging in /usr/local/lib/python3.9/dist-packages (from datasets) (23.0)\n",
            "Requirement already satisfied: tqdm>=4.62.1 in /usr/local/lib/python3.9/dist-packages (from datasets) (4.65.0)\n",
            "Collecting huggingface-hub<1.0.0,>=0.11.0\n",
            "  Downloading huggingface_hub-0.13.4-py3-none-any.whl (200 kB)\n",
            "\u001b[2K     \u001b[90m━━━━━━━━━━━━━━━━━━━━━━━━━━━━━━━━━━━━━━\u001b[0m \u001b[32m200.1/200.1 KB\u001b[0m \u001b[31m26.1 MB/s\u001b[0m eta \u001b[36m0:00:00\u001b[0m\n",
            "\u001b[?25hRequirement already satisfied: numpy>=1.17 in /usr/local/lib/python3.9/dist-packages (from datasets) (1.22.4)\n",
            "Requirement already satisfied: fsspec[http]>=2021.11.1 in /usr/local/lib/python3.9/dist-packages (from datasets) (2023.3.0)\n",
            "Requirement already satisfied: pyyaml>=5.1 in /usr/local/lib/python3.9/dist-packages (from datasets) (6.0)\n",
            "Collecting responses<0.19\n",
            "  Downloading responses-0.18.0-py3-none-any.whl (38 kB)\n",
            "Requirement already satisfied: pyarrow>=8.0.0 in /usr/local/lib/python3.9/dist-packages (from datasets) (9.0.0)\n",
            "Collecting multiprocess\n",
            "  Downloading multiprocess-0.70.14-py39-none-any.whl (132 kB)\n",
            "\u001b[2K     \u001b[90m━━━━━━━━━━━━━━━━━━━━━━━━━━━━━━━━━━━━━━\u001b[0m \u001b[32m132.9/132.9 KB\u001b[0m \u001b[31m18.8 MB/s\u001b[0m eta \u001b[36m0:00:00\u001b[0m\n",
            "\u001b[?25hCollecting aiohttp\n",
            "  Downloading aiohttp-3.8.4-cp39-cp39-manylinux_2_17_x86_64.manylinux2014_x86_64.whl (1.0 MB)\n",
            "\u001b[2K     \u001b[90m━━━━━━━━━━━━━━━━━━━━━━━━━━━━━━━━━━━━━━━━\u001b[0m \u001b[32m1.0/1.0 MB\u001b[0m \u001b[31m57.6 MB/s\u001b[0m eta \u001b[36m0:00:00\u001b[0m\n",
            "\u001b[?25hRequirement already satisfied: requests>=2.19.0 in /usr/local/lib/python3.9/dist-packages (from datasets) (2.27.1)\n",
            "Collecting dill<0.3.7,>=0.3.0\n",
            "  Downloading dill-0.3.6-py3-none-any.whl (110 kB)\n",
            "\u001b[2K     \u001b[90m━━━━━━━━━━━━━━━━━━━━━━━━━━━━━━━━━━━━━━\u001b[0m \u001b[32m110.5/110.5 KB\u001b[0m \u001b[31m16.3 MB/s\u001b[0m eta \u001b[36m0:00:00\u001b[0m\n",
            "\u001b[?25hCollecting async-timeout<5.0,>=4.0.0a3\n",
            "  Downloading async_timeout-4.0.2-py3-none-any.whl (5.8 kB)\n",
            "Collecting aiosignal>=1.1.2\n",
            "  Downloading aiosignal-1.3.1-py3-none-any.whl (7.6 kB)\n",
            "Requirement already satisfied: charset-normalizer<4.0,>=2.0 in /usr/local/lib/python3.9/dist-packages (from aiohttp->datasets) (2.0.12)\n",
            "Collecting yarl<2.0,>=1.0\n",
            "  Downloading yarl-1.8.2-cp39-cp39-manylinux_2_17_x86_64.manylinux2014_x86_64.whl (264 kB)\n",
            "\u001b[2K     \u001b[90m━━━━━━━━━━━━━━━━━━━━━━━━━━━━━━━━━━━━━━\u001b[0m \u001b[32m264.6/264.6 KB\u001b[0m \u001b[31m31.2 MB/s\u001b[0m eta \u001b[36m0:00:00\u001b[0m\n",
            "\u001b[?25hCollecting multidict<7.0,>=4.5\n",
            "  Downloading multidict-6.0.4-cp39-cp39-manylinux_2_17_x86_64.manylinux2014_x86_64.whl (114 kB)\n",
            "\u001b[2K     \u001b[90m━━━━━━━━━━━━━━━━━━━━━━━━━━━━━━━━━━━━━━\u001b[0m \u001b[32m114.2/114.2 KB\u001b[0m \u001b[31m16.5 MB/s\u001b[0m eta \u001b[36m0:00:00\u001b[0m\n",
            "\u001b[?25hRequirement already satisfied: attrs>=17.3.0 in /usr/local/lib/python3.9/dist-packages (from aiohttp->datasets) (22.2.0)\n",
            "Collecting frozenlist>=1.1.1\n",
            "  Downloading frozenlist-1.3.3-cp39-cp39-manylinux_2_5_x86_64.manylinux1_x86_64.manylinux_2_17_x86_64.manylinux2014_x86_64.whl (158 kB)\n",
            "\u001b[2K     \u001b[90m━━━━━━━━━━━━━━━━━━━━━━━━━━━━━━━━━━━━━━\u001b[0m \u001b[32m158.8/158.8 KB\u001b[0m \u001b[31m13.1 MB/s\u001b[0m eta \u001b[36m0:00:00\u001b[0m\n",
            "\u001b[?25hRequirement already satisfied: filelock in /usr/local/lib/python3.9/dist-packages (from huggingface-hub<1.0.0,>=0.11.0->datasets) (3.10.7)\n",
            "Requirement already satisfied: typing-extensions>=3.7.4.3 in /usr/local/lib/python3.9/dist-packages (from huggingface-hub<1.0.0,>=0.11.0->datasets) (4.5.0)\n",
            "Requirement already satisfied: idna<4,>=2.5 in /usr/local/lib/python3.9/dist-packages (from requests>=2.19.0->datasets) (3.4)\n",
            "Requirement already satisfied: certifi>=2017.4.17 in /usr/local/lib/python3.9/dist-packages (from requests>=2.19.0->datasets) (2022.12.7)\n",
            "Requirement already satisfied: urllib3<1.27,>=1.21.1 in /usr/local/lib/python3.9/dist-packages (from requests>=2.19.0->datasets) (1.26.15)\n",
            "Requirement already satisfied: python-dateutil>=2.8.1 in /usr/local/lib/python3.9/dist-packages (from pandas->datasets) (2.8.2)\n",
            "Requirement already satisfied: pytz>=2020.1 in /usr/local/lib/python3.9/dist-packages (from pandas->datasets) (2022.7.1)\n",
            "Requirement already satisfied: six>=1.5 in /usr/local/lib/python3.9/dist-packages (from python-dateutil>=2.8.1->pandas->datasets) (1.16.0)\n",
            "Installing collected packages: xxhash, multidict, frozenlist, dill, async-timeout, yarl, responses, multiprocess, huggingface-hub, aiosignal, aiohttp, datasets\n",
            "Successfully installed aiohttp-3.8.4 aiosignal-1.3.1 async-timeout-4.0.2 datasets-2.11.0 dill-0.3.6 frozenlist-1.3.3 huggingface-hub-0.13.4 multidict-6.0.4 multiprocess-0.70.14 responses-0.18.0 xxhash-3.2.0 yarl-1.8.2\n"
          ]
        }
      ]
    },
    {
      "cell_type": "code",
      "source": [
        "!pip install openai"
      ],
      "metadata": {
        "colab": {
          "base_uri": "https://localhost:8080/"
        },
        "id": "bPMaZhmky59L",
        "outputId": "7e539dba-e64e-40ba-f842-ddab775e93b6"
      },
      "execution_count": null,
      "outputs": [
        {
          "output_type": "stream",
          "name": "stdout",
          "text": [
            "Looking in indexes: https://pypi.org/simple, https://us-python.pkg.dev/colab-wheels/public/simple/\n",
            "Collecting openai\n",
            "  Downloading openai-0.27.2-py3-none-any.whl (70 kB)\n",
            "\u001b[2K     \u001b[90m━━━━━━━━━━━━━━━━━━━━━━━━━━━━━━━━━━━━━━━━\u001b[0m \u001b[32m70.1/70.1 KB\u001b[0m \u001b[31m2.4 MB/s\u001b[0m eta \u001b[36m0:00:00\u001b[0m\n",
            "\u001b[?25hRequirement already satisfied: requests>=2.20 in /usr/local/lib/python3.9/dist-packages (from openai) (2.27.1)\n",
            "Collecting aiohttp\n",
            "  Downloading aiohttp-3.8.4-cp39-cp39-manylinux_2_17_x86_64.manylinux2014_x86_64.whl (1.0 MB)\n",
            "\u001b[2K     \u001b[90m━━━━━━━━━━━━━━━━━━━━━━━━━━━━━━━━━━━━━━━━\u001b[0m \u001b[32m1.0/1.0 MB\u001b[0m \u001b[31m15.6 MB/s\u001b[0m eta \u001b[36m0:00:00\u001b[0m\n",
            "\u001b[?25hRequirement already satisfied: tqdm in /usr/local/lib/python3.9/dist-packages (from openai) (4.65.0)\n",
            "Requirement already satisfied: certifi>=2017.4.17 in /usr/local/lib/python3.9/dist-packages (from requests>=2.20->openai) (2022.12.7)\n",
            "Requirement already satisfied: urllib3<1.27,>=1.21.1 in /usr/local/lib/python3.9/dist-packages (from requests>=2.20->openai) (1.26.15)\n",
            "Requirement already satisfied: idna<4,>=2.5 in /usr/local/lib/python3.9/dist-packages (from requests>=2.20->openai) (3.4)\n",
            "Requirement already satisfied: charset-normalizer~=2.0.0 in /usr/local/lib/python3.9/dist-packages (from requests>=2.20->openai) (2.0.12)\n",
            "Requirement already satisfied: attrs>=17.3.0 in /usr/local/lib/python3.9/dist-packages (from aiohttp->openai) (22.2.0)\n",
            "Collecting async-timeout<5.0,>=4.0.0a3\n",
            "  Downloading async_timeout-4.0.2-py3-none-any.whl (5.8 kB)\n",
            "Collecting aiosignal>=1.1.2\n",
            "  Downloading aiosignal-1.3.1-py3-none-any.whl (7.6 kB)\n",
            "Collecting yarl<2.0,>=1.0\n",
            "  Downloading yarl-1.8.2-cp39-cp39-manylinux_2_17_x86_64.manylinux2014_x86_64.whl (264 kB)\n",
            "\u001b[2K     \u001b[90m━━━━━━━━━━━━━━━━━━━━━━━━━━━━━━━━━━━━━━\u001b[0m \u001b[32m264.6/264.6 KB\u001b[0m \u001b[31m15.5 MB/s\u001b[0m eta \u001b[36m0:00:00\u001b[0m\n",
            "\u001b[?25hCollecting frozenlist>=1.1.1\n",
            "  Downloading frozenlist-1.3.3-cp39-cp39-manylinux_2_5_x86_64.manylinux1_x86_64.manylinux_2_17_x86_64.manylinux2014_x86_64.whl (158 kB)\n",
            "\u001b[2K     \u001b[90m━━━━━━━━━━━━━━━━━━━━━━━━━━━━━━━━━━━━━━\u001b[0m \u001b[32m158.8/158.8 KB\u001b[0m \u001b[31m19.1 MB/s\u001b[0m eta \u001b[36m0:00:00\u001b[0m\n",
            "\u001b[?25hCollecting multidict<7.0,>=4.5\n",
            "  Downloading multidict-6.0.4-cp39-cp39-manylinux_2_17_x86_64.manylinux2014_x86_64.whl (114 kB)\n",
            "\u001b[2K     \u001b[90m━━━━━━━━━━━━━━━━━━━━━━━━━━━━━━━━━━━━━━━\u001b[0m \u001b[32m114.2/114.2 KB\u001b[0m \u001b[31m6.1 MB/s\u001b[0m eta \u001b[36m0:00:00\u001b[0m\n",
            "\u001b[?25hInstalling collected packages: multidict, frozenlist, async-timeout, yarl, aiosignal, aiohttp, openai\n",
            "Successfully installed aiohttp-3.8.4 aiosignal-1.3.1 async-timeout-4.0.2 frozenlist-1.3.3 multidict-6.0.4 openai-0.27.2 yarl-1.8.2\n"
          ]
        }
      ]
    },
    {
      "cell_type": "code",
      "source": [
        "!pip install gutenberg_cleaner"
      ],
      "metadata": {
        "colab": {
          "base_uri": "https://localhost:8080/"
        },
        "id": "72ApaKVPyiag",
        "outputId": "beef63cb-92ed-482a-9ea4-ab46b8a97986"
      },
      "execution_count": null,
      "outputs": [
        {
          "output_type": "stream",
          "name": "stdout",
          "text": [
            "Looking in indexes: https://pypi.org/simple, https://us-python.pkg.dev/colab-wheels/public/simple/\n",
            "Collecting gutenberg_cleaner\n",
            "  Downloading gutenberg_cleaner-0.1.6-py3-none-any.whl (7.4 kB)\n",
            "Requirement already satisfied: nltk in /usr/local/lib/python3.9/dist-packages (from gutenberg_cleaner) (3.8.1)\n",
            "Requirement already satisfied: regex>=2021.8.3 in /usr/local/lib/python3.9/dist-packages (from nltk->gutenberg_cleaner) (2022.10.31)\n",
            "Requirement already satisfied: joblib in /usr/local/lib/python3.9/dist-packages (from nltk->gutenberg_cleaner) (1.1.1)\n",
            "Requirement already satisfied: tqdm in /usr/local/lib/python3.9/dist-packages (from nltk->gutenberg_cleaner) (4.65.0)\n",
            "Requirement already satisfied: click in /usr/local/lib/python3.9/dist-packages (from nltk->gutenberg_cleaner) (8.1.3)\n",
            "Installing collected packages: gutenberg_cleaner\n",
            "Successfully installed gutenberg_cleaner-0.1.6\n"
          ]
        }
      ]
    },
    {
      "cell_type": "code",
      "source": [
        "import pandas as pd\n",
        "from datasets import load_dataset\n",
        "from sklearn.model_selection import train_test_split\n",
        "\n",
        "import nltk\n",
        "nltk.download('punkt')\n",
        "\n",
        "import openai\n",
        "import os\n",
        "import re"
      ],
      "metadata": {
        "id": "LFDDDMl3FqaN"
      },
      "execution_count": null,
      "outputs": []
    },
    {
      "cell_type": "code",
      "source": [
        "!huggingface-cli login"
      ],
      "metadata": {
        "id": "ztQeoYKtGEVU"
      },
      "execution_count": null,
      "outputs": []
    },
    {
      "cell_type": "code",
      "source": [
        "# Set up your API key\n",
        "openai.api_key = <<OPEN_AI_API_KEY>>"
      ],
      "metadata": {
        "id": "ctGc5qF8y8vD"
      },
      "execution_count": null,
      "outputs": []
    },
    {
      "cell_type": "code",
      "source": [
        "def generate_similar_novel(book_name, author):\n",
        "  # prompt = (f\"Write a complete novel with similar to {book_name} by {author}. The writing style should be the same in novel. The novel should be around 12,000 words.\")\n",
        "  prompt = (f\"Write a complete novel similar to {book_name} by {author}. The writing style should be the same as the {book_name} by {author}. The novel should be than 12,000 words.\")\n",
        "  # maybe remove the word counts?\n",
        "  # write the first chapter\n",
        "  # write the ending\n",
        "  # prompt 2 - start writing a novel (remove word count)\n",
        "  # prompt 3 - complete, at least, at most\n",
        "\n",
        "  model_engine = \"GPT-3.5-turbo\" # Replace with the model you want to use\n",
        "  prompt_length = len(nltk.word_tokenize(prompt))\n",
        "  max_length = 4000\n",
        "\n",
        "  # TODO: use the longest prompt length\n",
        "  response_length = max_length - prompt_length\n",
        "\n",
        "  print(f'Generating novel similar to {book_name} by {author}')\n",
        "\n",
        "  response = openai.ChatCompletion.create(\n",
        "    model = 'gpt-3.5-turbo',\n",
        "    messages = [\n",
        "      {'role': 'user', 'content': prompt}\n",
        "    ],\n",
        "    temperature = 0  ,\n",
        "    max_tokens=response_length\n",
        "  )\n",
        "\n",
        "  return response.choices[0].message.content"
      ],
      "metadata": {
        "id": "G-vYGFw6zElD"
      },
      "execution_count": null,
      "outputs": []
    },
    {
      "cell_type": "markdown",
      "source": [
        "# Get Huggingface Data"
      ],
      "metadata": {
        "id": "zm0FhjGLRKJY"
      }
    },
    {
      "cell_type": "code",
      "source": [
        "dataset = load_dataset(\"Authorship/experiment_1\", data_dir='authors_20/trial_1')\n",
        "data = pd.concat([pd.DataFrame(dataset['train']), pd.DataFrame(dataset['test']), pd.DataFrame(dataset['validation'])])\n",
        "\n",
        "author_names = ['Arthur Conan Doyle', 'Henry Rider Haggard', 'Jack London', 'Mark Twain', 'Wilkie Collins']\n",
        "data = data[data['Name'].isin(author_names)]\n",
        "\n",
        "data.to_csv('/content/original_texts.csv')\n",
        "\n",
        "trainval, test = train_test_split(data,\n",
        "                                test_size=0.2,\n",
        "                                stratify=data['AuthorID'])\n",
        "\n",
        "train, val = train_test_split(trainval, test_size=0.1, stratify=trainval['AuthorID'])"
      ],
      "metadata": {
        "colab": {
          "base_uri": "https://localhost:8080/",
          "height": 86,
          "referenced_widgets": [
            "2efd38546ca34d46987fe35e76194d05",
            "cc32f63f25e44d2ca593237045d6fd4f",
            "2cac3b697a3e4884895757e94bd732b1",
            "7979ab16b1b344378dbb90034f9c2ae8",
            "91487a43a2a34572b21495575c738b2e",
            "249d7943c0534216a1b99e0bcb3b8913",
            "1281235fdb9b4faa8907de4fcdd74616",
            "75a8eddd415c4eaf88bf86c3eaa5aec2",
            "8bfcda26308f49a4bc737d8d219810cc",
            "60592e5850a84e5e8dd88a80ce4c6cf9",
            "c6f1730281e54dffbc0d90ab810cf651"
          ]
        },
        "id": "HYKpaLMSFxTO",
        "outputId": "385f3b0f-a0bf-4200-fe7c-60700ec14478"
      },
      "execution_count": null,
      "outputs": [
        {
          "output_type": "stream",
          "name": "stderr",
          "text": [
            "WARNING:datasets.builder:Found cached dataset csv (/root/.cache/huggingface/datasets/Authorship___csv/Authorship--experiment_1-5b48522991ebfe04/0.0.0/6954658bab30a358235fa864b05cf819af0e179325c740e4bc853bcc7ec513e1)\n"
          ]
        },
        {
          "output_type": "display_data",
          "data": {
            "text/plain": [
              "  0%|          | 0/3 [00:00<?, ?it/s]"
            ],
            "application/vnd.jupyter.widget-view+json": {
              "version_major": 2,
              "version_minor": 0,
              "model_id": "2efd38546ca34d46987fe35e76194d05"
            }
          },
          "metadata": {}
        }
      ]
    },
    {
      "cell_type": "markdown",
      "source": [
        "# generate chat gpt texts"
      ],
      "metadata": {
        "id": "0YI3chG-PEV6"
      }
    },
    {
      "cell_type": "code",
      "source": [
        "train['ChatGPTText'] = train.apply(lambda x: generate_similar_novel(x['BookTitle'], x['Name']), axis=1)"
      ],
      "metadata": {
        "colab": {
          "base_uri": "https://localhost:8080/"
        },
        "id": "0DeLanQeVHP3",
        "outputId": "147080a4-7f02-4f65-c870-c274dfd95aab"
      },
      "execution_count": null,
      "outputs": [
        {
          "output_type": "stream",
          "name": "stdout",
          "text": [
            "Generating novel similar to The Disappearance of Lady Frances Carfax by Arthur Conan Doyle\n",
            "Generating novel similar to She and Allan by Henry Rider Haggard\n",
            "Generating novel similar to Sketches New and Old by Mark Twain\n",
            "Generating novel similar to A Horse's Tale by Mark Twain\n",
            "Generating novel similar to Smoke Bellew by Jack London\n",
            "Generating novel similar to The Adventures of Sherlock Holmes by Arthur Conan Doyle\n",
            "Generating novel similar to The Adventure of the Red Circle by Arthur Conan Doyle\n",
            "Generating novel similar to The People of the Mist by Henry Rider Haggard\n",
            "Generating novel similar to Adventure by Jack London\n",
            "Generating novel similar to Tom Sawyer, Detective by Mark Twain\n",
            "Generating novel similar to The Sea-Wolf by Jack London\n",
            "Generating novel similar to A Study in Scarlet by Arthur Conan Doyle\n",
            "Generating novel similar to Tom Sawyer Abroad by Mark Twain\n",
            "Generating novel similar to The Croxley Master: A Great Tale Of The Prize Ring by Arthur Conan Doyle\n",
            "Generating novel similar to Island Tales / On the Makaloa Mat by Jack London\n",
            "Generating novel similar to Personal Recollections of Joan of Arc — Volume 1 by Mark Twain\n",
            "Generating novel similar to Round the Red Lamp: Being Facts and Fancies of Medical Life by Arthur Conan Doyle\n",
            "Generating novel similar to Martin Eden by Jack London\n",
            "Generating novel similar to A Tramp Abroad by Mark Twain\n",
            "Generating novel similar to The Fallen Leaves by Wilkie Collins\n",
            "Generating novel similar to The £1,000,000 bank-note, and other new stories by Mark Twain\n",
            "Generating novel similar to The Queen of Hearts by Wilkie Collins\n",
            "Generating novel similar to Tales of Terror and Mystery by Arthur Conan Doyle\n",
            "Generating novel similar to Fair Margaret by Henry Rider Haggard\n",
            "Generating novel similar to White Fang by Jack London\n",
            "Generating novel similar to Montezuma's Daughter by Henry Rider Haggard\n",
            "Generating novel similar to Adventures of Huckleberry Finn by Mark Twain\n",
            "Generating novel similar to Eve's Diary, Complete by Mark Twain\n",
            "Generating novel similar to A Son of the Sun by Jack London\n",
            "Generating novel similar to The Legacy of Cain by Wilkie Collins\n",
            "Generating novel similar to Rodney Stone by Arthur Conan Doyle\n",
            "Generating novel similar to Child of Storm by Henry Rider Haggard\n",
            "Generating novel similar to King Solomon's Mines by Henry Rider Haggard\n",
            "Generating novel similar to The Iron Heel by Jack London\n",
            "Generating novel similar to The Black Robe by Wilkie Collins\n",
            "Generating novel similar to When the World Shook by Henry Rider Haggard\n",
            "Generating novel similar to The Little Lady of the Big House by Jack London\n",
            "Generating novel similar to Little Novels by Wilkie Collins\n",
            "Generating novel similar to Sir Nigel by Arthur Conan Doyle\n",
            "Generating novel similar to A Double Barrelled Detective Story by Mark Twain\n",
            "Generating novel similar to The Adventure of the Devil's Foot by Arthur Conan Doyle\n",
            "Generating novel similar to The Tragedy of Pudd'nhead Wilson by Mark Twain\n",
            "Generating novel similar to Armadale by Wilkie Collins\n",
            "Generating novel similar to The Dead Secret: A Novel by Wilkie Collins\n",
            "Generating novel similar to Man and Wife by Wilkie Collins\n",
            "Generating novel similar to The Lazy Tour of Two Idle Apprentices by Wilkie Collins\n",
            "Generating novel similar to Ayesha, the Return of She by Henry Rider Haggard\n",
            "Generating novel similar to The Strength of the Strong by Jack London\n",
            "Generating novel similar to Burning Daylight by Jack London\n",
            "Generating novel similar to The Ancient Allan by Henry Rider Haggard\n",
            "Generating novel similar to The Ivory Child by Henry Rider Haggard\n",
            "Generating novel similar to The Frozen Deep by Wilkie Collins\n",
            "Generating novel similar to The Dead Alive by Wilkie Collins\n",
            "Generating novel similar to The Adventures of Gerard by Arthur Conan Doyle\n",
            "Generating novel similar to The Adventures of Tom Sawyer, Complete by Mark Twain\n",
            "Generating novel similar to The Jacket (The Star-Rover) by Jack London\n",
            "Generating novel similar to Jerry of the Islands by Jack London\n",
            "Generating novel similar to Beyond the City by Arthur Conan Doyle\n",
            "Generating novel similar to Micah Clarke by Arthur Conan Doyle\n",
            "Generating novel similar to The House of Pride, and Other Tales of Hawaii by Jack London\n",
            "Generating novel similar to Basil by Wilkie Collins\n",
            "Generating novel similar to The Evil Genius: A Domestic Story by Wilkie Collins\n",
            "Generating novel similar to A Connecticut Yankee in King Arthur's Court by Mark Twain\n",
            "Generating novel similar to 1601: Conversation as it was by the Social Fireside in the Time of the Tudors by Mark Twain\n",
            "Generating novel similar to Allan Quatermain by Henry Rider Haggard\n",
            "Generating novel similar to The Adventure of Wisteria Lodge by Arthur Conan Doyle\n",
            "Generating novel similar to Cleopatra by Henry Rider Haggard\n",
            "Generating novel similar to The Gilded Age: A Tale of Today by Mark Twain\n",
            "Generating novel similar to Marie: An Episode in the Life of the Late Allan Quatermain by Henry Rider Haggard\n",
            "Generating novel similar to Allan and the Holy Flower by Henry Rider Haggard\n",
            "Generating novel similar to The Game by Jack London\n",
            "Generating novel similar to The Haunted Hotel: A Mystery of Modern Venice by Wilkie Collins\n"
          ]
        }
      ]
    },
    {
      "cell_type": "code",
      "source": [
        "len(train)"
      ],
      "metadata": {
        "colab": {
          "base_uri": "https://localhost:8080/"
        },
        "id": "cchCMOSq8VCW",
        "outputId": "f7b607b8-9000-4469-c96f-ad78dedd1023"
      },
      "execution_count": null,
      "outputs": [
        {
          "output_type": "execute_result",
          "data": {
            "text/plain": [
              "72"
            ]
          },
          "metadata": {},
          "execution_count": 103
        }
      ]
    },
    {
      "cell_type": "code",
      "source": [
        "train.info()"
      ],
      "metadata": {
        "colab": {
          "base_uri": "https://localhost:8080/"
        },
        "id": "I_pxhX4f8bvN",
        "outputId": "f571186d-23a8-46ca-a061-07481ccf0c2d"
      },
      "execution_count": null,
      "outputs": [
        {
          "output_type": "stream",
          "name": "stdout",
          "text": [
            "<class 'pandas.core.frame.DataFrame'>\n",
            "Int64Index: 72 entries, 157 to 209\n",
            "Data columns (total 8 columns):\n",
            " #   Column       Non-Null Count  Dtype \n",
            "---  ------       --------------  ----- \n",
            " 0   BookID       72 non-null     int64 \n",
            " 1   AuthorID     72 non-null     int64 \n",
            " 2   Name         72 non-null     object\n",
            " 3   BookTitle    72 non-null     object\n",
            " 4   Genre        72 non-null     object\n",
            " 5   BookText     72 non-null     object\n",
            " 6   Source       72 non-null     object\n",
            " 7   ChatGPTText  72 non-null     object\n",
            "dtypes: int64(2), object(6)\n",
            "memory usage: 5.1+ KB\n"
          ]
        }
      ]
    },
    {
      "cell_type": "code",
      "source": [
        "train.head()"
      ],
      "metadata": {
        "colab": {
          "base_uri": "https://localhost:8080/",
          "height": 527
        },
        "id": "GWnJRpQa8dlC",
        "outputId": "36d25c32-9216-4690-8a77-eac1e780d341"
      },
      "execution_count": null,
      "outputs": [
        {
          "output_type": "execute_result",
          "data": {
            "text/plain": [
              "     BookID  AuthorID                 Name  \\\n",
              "157    2348        69   Arthur Conan Doyle   \n",
              "117    5745       365  Henry Rider Haggard   \n",
              "47     3189        53           Mark Twain   \n",
              "11     1086        53           Mark Twain   \n",
              "86     5737       120          Jack London   \n",
              "\n",
              "                                    BookTitle  Genre  \\\n",
              "157  The Disappearance of Lady Frances Carfax  Novel   \n",
              "117                             She and Allan  Novel   \n",
              "47                       Sketches New and Old  Novel   \n",
              "11                             A Horse's Tale  Novel   \n",
              "86                               Smoke Bellew  Novel   \n",
              "\n",
              "                                              BookText     Source  \\\n",
              "157  The Project Gutenberg EBook of The Disappearan...  gutenberg   \n",
              "117  ﻿The Project Gutenberg eBook of She and Allan,...  gutenberg   \n",
              "47   ﻿The Project Gutenberg EBook of Sketches New a...  gutenberg   \n",
              "11   ﻿The Project Gutenberg eBook of A Horse’s Tale...  gutenberg   \n",
              "86   ﻿The Project Gutenberg EBook of Smoke Bellew, ...  gutenberg   \n",
              "\n",
              "                                           ChatGPTText  \n",
              "157  Chapter 1\\n\\nIt was a cold and dreary day in L...  \n",
              "117  Chapter 1\\n\\nThe sun was setting over the vast...  \n",
              "47   Title: Tales from the Mississippi\\n\\nChapter 1...  \n",
              "11   Chapter 1\\n\\nI was born in a small village in ...  \n",
              "86   Chapter 1\\n\\nThe sun was setting over the vast...  "
            ],
            "text/html": [
              "\n",
              "  <div id=\"df-e15e5e0e-e29d-4f9e-8282-167f5effcac1\">\n",
              "    <div class=\"colab-df-container\">\n",
              "      <div>\n",
              "<style scoped>\n",
              "    .dataframe tbody tr th:only-of-type {\n",
              "        vertical-align: middle;\n",
              "    }\n",
              "\n",
              "    .dataframe tbody tr th {\n",
              "        vertical-align: top;\n",
              "    }\n",
              "\n",
              "    .dataframe thead th {\n",
              "        text-align: right;\n",
              "    }\n",
              "</style>\n",
              "<table border=\"1\" class=\"dataframe\">\n",
              "  <thead>\n",
              "    <tr style=\"text-align: right;\">\n",
              "      <th></th>\n",
              "      <th>BookID</th>\n",
              "      <th>AuthorID</th>\n",
              "      <th>Name</th>\n",
              "      <th>BookTitle</th>\n",
              "      <th>Genre</th>\n",
              "      <th>BookText</th>\n",
              "      <th>Source</th>\n",
              "      <th>ChatGPTText</th>\n",
              "    </tr>\n",
              "  </thead>\n",
              "  <tbody>\n",
              "    <tr>\n",
              "      <th>157</th>\n",
              "      <td>2348</td>\n",
              "      <td>69</td>\n",
              "      <td>Arthur Conan Doyle</td>\n",
              "      <td>The Disappearance of Lady Frances Carfax</td>\n",
              "      <td>Novel</td>\n",
              "      <td>The Project Gutenberg EBook of The Disappearan...</td>\n",
              "      <td>gutenberg</td>\n",
              "      <td>Chapter 1\\n\\nIt was a cold and dreary day in L...</td>\n",
              "    </tr>\n",
              "    <tr>\n",
              "      <th>117</th>\n",
              "      <td>5745</td>\n",
              "      <td>365</td>\n",
              "      <td>Henry Rider Haggard</td>\n",
              "      <td>She and Allan</td>\n",
              "      <td>Novel</td>\n",
              "      <td>﻿The Project Gutenberg eBook of She and Allan,...</td>\n",
              "      <td>gutenberg</td>\n",
              "      <td>Chapter 1\\n\\nThe sun was setting over the vast...</td>\n",
              "    </tr>\n",
              "    <tr>\n",
              "      <th>47</th>\n",
              "      <td>3189</td>\n",
              "      <td>53</td>\n",
              "      <td>Mark Twain</td>\n",
              "      <td>Sketches New and Old</td>\n",
              "      <td>Novel</td>\n",
              "      <td>﻿The Project Gutenberg EBook of Sketches New a...</td>\n",
              "      <td>gutenberg</td>\n",
              "      <td>Title: Tales from the Mississippi\\n\\nChapter 1...</td>\n",
              "    </tr>\n",
              "    <tr>\n",
              "      <th>11</th>\n",
              "      <td>1086</td>\n",
              "      <td>53</td>\n",
              "      <td>Mark Twain</td>\n",
              "      <td>A Horse's Tale</td>\n",
              "      <td>Novel</td>\n",
              "      <td>﻿The Project Gutenberg eBook of A Horse’s Tale...</td>\n",
              "      <td>gutenberg</td>\n",
              "      <td>Chapter 1\\n\\nI was born in a small village in ...</td>\n",
              "    </tr>\n",
              "    <tr>\n",
              "      <th>86</th>\n",
              "      <td>5737</td>\n",
              "      <td>120</td>\n",
              "      <td>Jack London</td>\n",
              "      <td>Smoke Bellew</td>\n",
              "      <td>Novel</td>\n",
              "      <td>﻿The Project Gutenberg EBook of Smoke Bellew, ...</td>\n",
              "      <td>gutenberg</td>\n",
              "      <td>Chapter 1\\n\\nThe sun was setting over the vast...</td>\n",
              "    </tr>\n",
              "  </tbody>\n",
              "</table>\n",
              "</div>\n",
              "      <button class=\"colab-df-convert\" onclick=\"convertToInteractive('df-e15e5e0e-e29d-4f9e-8282-167f5effcac1')\"\n",
              "              title=\"Convert this dataframe to an interactive table.\"\n",
              "              style=\"display:none;\">\n",
              "        \n",
              "  <svg xmlns=\"http://www.w3.org/2000/svg\" height=\"24px\"viewBox=\"0 0 24 24\"\n",
              "       width=\"24px\">\n",
              "    <path d=\"M0 0h24v24H0V0z\" fill=\"none\"/>\n",
              "    <path d=\"M18.56 5.44l.94 2.06.94-2.06 2.06-.94-2.06-.94-.94-2.06-.94 2.06-2.06.94zm-11 1L8.5 8.5l.94-2.06 2.06-.94-2.06-.94L8.5 2.5l-.94 2.06-2.06.94zm10 10l.94 2.06.94-2.06 2.06-.94-2.06-.94-.94-2.06-.94 2.06-2.06.94z\"/><path d=\"M17.41 7.96l-1.37-1.37c-.4-.4-.92-.59-1.43-.59-.52 0-1.04.2-1.43.59L10.3 9.45l-7.72 7.72c-.78.78-.78 2.05 0 2.83L4 21.41c.39.39.9.59 1.41.59.51 0 1.02-.2 1.41-.59l7.78-7.78 2.81-2.81c.8-.78.8-2.07 0-2.86zM5.41 20L4 18.59l7.72-7.72 1.47 1.35L5.41 20z\"/>\n",
              "  </svg>\n",
              "      </button>\n",
              "      \n",
              "  <style>\n",
              "    .colab-df-container {\n",
              "      display:flex;\n",
              "      flex-wrap:wrap;\n",
              "      gap: 12px;\n",
              "    }\n",
              "\n",
              "    .colab-df-convert {\n",
              "      background-color: #E8F0FE;\n",
              "      border: none;\n",
              "      border-radius: 50%;\n",
              "      cursor: pointer;\n",
              "      display: none;\n",
              "      fill: #1967D2;\n",
              "      height: 32px;\n",
              "      padding: 0 0 0 0;\n",
              "      width: 32px;\n",
              "    }\n",
              "\n",
              "    .colab-df-convert:hover {\n",
              "      background-color: #E2EBFA;\n",
              "      box-shadow: 0px 1px 2px rgba(60, 64, 67, 0.3), 0px 1px 3px 1px rgba(60, 64, 67, 0.15);\n",
              "      fill: #174EA6;\n",
              "    }\n",
              "\n",
              "    [theme=dark] .colab-df-convert {\n",
              "      background-color: #3B4455;\n",
              "      fill: #D2E3FC;\n",
              "    }\n",
              "\n",
              "    [theme=dark] .colab-df-convert:hover {\n",
              "      background-color: #434B5C;\n",
              "      box-shadow: 0px 1px 3px 1px rgba(0, 0, 0, 0.15);\n",
              "      filter: drop-shadow(0px 1px 2px rgba(0, 0, 0, 0.3));\n",
              "      fill: #FFFFFF;\n",
              "    }\n",
              "  </style>\n",
              "\n",
              "      <script>\n",
              "        const buttonEl =\n",
              "          document.querySelector('#df-e15e5e0e-e29d-4f9e-8282-167f5effcac1 button.colab-df-convert');\n",
              "        buttonEl.style.display =\n",
              "          google.colab.kernel.accessAllowed ? 'block' : 'none';\n",
              "\n",
              "        async function convertToInteractive(key) {\n",
              "          const element = document.querySelector('#df-e15e5e0e-e29d-4f9e-8282-167f5effcac1');\n",
              "          const dataTable =\n",
              "            await google.colab.kernel.invokeFunction('convertToInteractive',\n",
              "                                                     [key], {});\n",
              "          if (!dataTable) return;\n",
              "\n",
              "          const docLinkHtml = 'Like what you see? Visit the ' +\n",
              "            '<a target=\"_blank\" href=https://colab.research.google.com/notebooks/data_table.ipynb>data table notebook</a>'\n",
              "            + ' to learn more about interactive tables.';\n",
              "          element.innerHTML = '';\n",
              "          dataTable['output_type'] = 'display_data';\n",
              "          await google.colab.output.renderOutput(dataTable, element);\n",
              "          const docLink = document.createElement('div');\n",
              "          docLink.innerHTML = docLinkHtml;\n",
              "          element.appendChild(docLink);\n",
              "        }\n",
              "      </script>\n",
              "    </div>\n",
              "  </div>\n",
              "  "
            ]
          },
          "metadata": {},
          "execution_count": 105
        }
      ]
    },
    {
      "cell_type": "code",
      "source": [
        "len(test)"
      ],
      "metadata": {
        "colab": {
          "base_uri": "https://localhost:8080/"
        },
        "id": "rQIUnV048uT3",
        "outputId": "17282fff-4d4f-47ea-8e81-aba3990f1a20"
      },
      "execution_count": null,
      "outputs": [
        {
          "output_type": "execute_result",
          "data": {
            "text/plain": [
              "20"
            ]
          },
          "metadata": {},
          "execution_count": 114
        }
      ]
    },
    {
      "cell_type": "code",
      "source": [
        "test['ChatGPTText'] = test.apply(lambda x: generate_similar_novel(x['BookTitle'], x['Name']), axis=1)"
      ],
      "metadata": {
        "colab": {
          "base_uri": "https://localhost:8080/"
        },
        "id": "ZsjZd64DforT",
        "outputId": "52cbf383-37c8-4fc2-a8fc-b7a2e922c782"
      },
      "execution_count": null,
      "outputs": [
        {
          "output_type": "stream",
          "name": "stdout",
          "text": [
            "Generating novel similar to The Ghost Kings by Henry Rider Haggard\n",
            "Generating novel similar to The Prince and the Pauper by Mark Twain\n",
            "Generating novel similar to Antonina; Or, The Fall of Rome by Wilkie Collins\n",
            "Generating novel similar to The Adventure of the Dying Detective by Arthur Conan Doyle\n",
            "Generating novel similar to The Woman in White by Wilkie Collins\n",
            "Generating novel similar to Extract from Captain Stormfield's Visit to Heaven by Mark Twain\n",
            "Generating novel similar to The Call of the Wild by Jack London\n",
            "Generating novel similar to The Firm of Girdlestone by Arthur Conan Doyle\n",
            "Generating novel similar to The Son of the Wolf by Jack London\n",
            "Generating novel similar to The Scarlet Plague by Jack London\n",
            "Generating novel similar to His Last Bow: An Epilogue of Sherlock Holmes by Arthur Conan Doyle\n",
            "Generating novel similar to The Law and the Lady by Wilkie Collins\n",
            "Generating novel similar to The Moonstone by Wilkie Collins\n",
            "Generating novel similar to A Yellow God: An Idol of Africa by Henry Rider Haggard\n",
            "Generating novel similar to Wisdom's Daughter: The Life and Love Story of She-Who-Must-be-Obeyed by Henry Rider Haggard\n",
            "Generating novel similar to The Exploits of Brigadier Gerard by Arthur Conan Doyle\n",
            "Generating novel similar to The Valley of the Moon by Jack London\n",
            "Generating novel similar to A Dog's Tale by Mark Twain\n",
            "Generating novel similar to Merry Tales by Mark Twain\n",
            "Generating novel similar to Eric Brighteyes by Henry Rider Haggard\n"
          ]
        }
      ]
    },
    {
      "cell_type": "code",
      "source": [
        "test.head()"
      ],
      "metadata": {
        "colab": {
          "base_uri": "https://localhost:8080/",
          "height": 527
        },
        "id": "VKgg4a3ZE_f2",
        "outputId": "8aafc83d-e7b5-475d-91bf-226123b6c794"
      },
      "execution_count": null,
      "outputs": [
        {
          "output_type": "execute_result",
          "data": {
            "text/plain": [
              "     BookID  AuthorID                 Name  \\\n",
              "237    8184       365  Henry Rider Haggard   \n",
              "71     1837        53           Mark Twain   \n",
              "53     3606        98       Wilkie Collins   \n",
              "186    2347        69   Arthur Conan Doyle   \n",
              "8       583        98       Wilkie Collins   \n",
              "\n",
              "                                BookTitle  Genre  \\\n",
              "237                       The Ghost Kings  Novel   \n",
              "71              The Prince and the Pauper  Novel   \n",
              "53         Antonina; Or, The Fall of Rome  Novel   \n",
              "186  The Adventure of the Dying Detective  Novel   \n",
              "8                      The Woman in White  Novel   \n",
              "\n",
              "                                              BookText     Source  \\\n",
              "237  ﻿The Project Gutenberg eBook of The Ghost King...  gutenberg   \n",
              "71   ﻿\\r\\nThe Project Gutenberg EBook of The Prince...  gutenberg   \n",
              "53   The Project Gutenberg EBook of Antonina, by Wi...  gutenberg   \n",
              "186  The Project Gutenberg EBook of The Adventure o...  gutenberg   \n",
              "8    The Project Gutenberg EBook of The Woman in Wh...  gutenberg   \n",
              "\n",
              "                                           ChatGPTText  \n",
              "237  Chapter 1\\n\\nThe sun was setting over the vast...  \n",
              "71   Title: The Heir and the Orphan\\n\\nChapter 1\\n\\...  \n",
              "53   Title: The Tragedy of Alexandria\\n\\nChapter 1\\...  \n",
              "186  Chapter 1\\n\\nIt was a cold and dreary day in L...  \n",
              "8    Chapter 1\\n\\nIt was a dark and stormy night wh...  "
            ],
            "text/html": [
              "\n",
              "  <div id=\"df-0519c9fb-e74b-47a1-acbc-b7ce61649951\">\n",
              "    <div class=\"colab-df-container\">\n",
              "      <div>\n",
              "<style scoped>\n",
              "    .dataframe tbody tr th:only-of-type {\n",
              "        vertical-align: middle;\n",
              "    }\n",
              "\n",
              "    .dataframe tbody tr th {\n",
              "        vertical-align: top;\n",
              "    }\n",
              "\n",
              "    .dataframe thead th {\n",
              "        text-align: right;\n",
              "    }\n",
              "</style>\n",
              "<table border=\"1\" class=\"dataframe\">\n",
              "  <thead>\n",
              "    <tr style=\"text-align: right;\">\n",
              "      <th></th>\n",
              "      <th>BookID</th>\n",
              "      <th>AuthorID</th>\n",
              "      <th>Name</th>\n",
              "      <th>BookTitle</th>\n",
              "      <th>Genre</th>\n",
              "      <th>BookText</th>\n",
              "      <th>Source</th>\n",
              "      <th>ChatGPTText</th>\n",
              "    </tr>\n",
              "  </thead>\n",
              "  <tbody>\n",
              "    <tr>\n",
              "      <th>237</th>\n",
              "      <td>8184</td>\n",
              "      <td>365</td>\n",
              "      <td>Henry Rider Haggard</td>\n",
              "      <td>The Ghost Kings</td>\n",
              "      <td>Novel</td>\n",
              "      <td>﻿The Project Gutenberg eBook of The Ghost King...</td>\n",
              "      <td>gutenberg</td>\n",
              "      <td>Chapter 1\\n\\nThe sun was setting over the vast...</td>\n",
              "    </tr>\n",
              "    <tr>\n",
              "      <th>71</th>\n",
              "      <td>1837</td>\n",
              "      <td>53</td>\n",
              "      <td>Mark Twain</td>\n",
              "      <td>The Prince and the Pauper</td>\n",
              "      <td>Novel</td>\n",
              "      <td>﻿\\r\\nThe Project Gutenberg EBook of The Prince...</td>\n",
              "      <td>gutenberg</td>\n",
              "      <td>Title: The Heir and the Orphan\\n\\nChapter 1\\n\\...</td>\n",
              "    </tr>\n",
              "    <tr>\n",
              "      <th>53</th>\n",
              "      <td>3606</td>\n",
              "      <td>98</td>\n",
              "      <td>Wilkie Collins</td>\n",
              "      <td>Antonina; Or, The Fall of Rome</td>\n",
              "      <td>Novel</td>\n",
              "      <td>The Project Gutenberg EBook of Antonina, by Wi...</td>\n",
              "      <td>gutenberg</td>\n",
              "      <td>Title: The Tragedy of Alexandria\\n\\nChapter 1\\...</td>\n",
              "    </tr>\n",
              "    <tr>\n",
              "      <th>186</th>\n",
              "      <td>2347</td>\n",
              "      <td>69</td>\n",
              "      <td>Arthur Conan Doyle</td>\n",
              "      <td>The Adventure of the Dying Detective</td>\n",
              "      <td>Novel</td>\n",
              "      <td>The Project Gutenberg EBook of The Adventure o...</td>\n",
              "      <td>gutenberg</td>\n",
              "      <td>Chapter 1\\n\\nIt was a cold and dreary day in L...</td>\n",
              "    </tr>\n",
              "    <tr>\n",
              "      <th>8</th>\n",
              "      <td>583</td>\n",
              "      <td>98</td>\n",
              "      <td>Wilkie Collins</td>\n",
              "      <td>The Woman in White</td>\n",
              "      <td>Novel</td>\n",
              "      <td>The Project Gutenberg EBook of The Woman in Wh...</td>\n",
              "      <td>gutenberg</td>\n",
              "      <td>Chapter 1\\n\\nIt was a dark and stormy night wh...</td>\n",
              "    </tr>\n",
              "  </tbody>\n",
              "</table>\n",
              "</div>\n",
              "      <button class=\"colab-df-convert\" onclick=\"convertToInteractive('df-0519c9fb-e74b-47a1-acbc-b7ce61649951')\"\n",
              "              title=\"Convert this dataframe to an interactive table.\"\n",
              "              style=\"display:none;\">\n",
              "        \n",
              "  <svg xmlns=\"http://www.w3.org/2000/svg\" height=\"24px\"viewBox=\"0 0 24 24\"\n",
              "       width=\"24px\">\n",
              "    <path d=\"M0 0h24v24H0V0z\" fill=\"none\"/>\n",
              "    <path d=\"M18.56 5.44l.94 2.06.94-2.06 2.06-.94-2.06-.94-.94-2.06-.94 2.06-2.06.94zm-11 1L8.5 8.5l.94-2.06 2.06-.94-2.06-.94L8.5 2.5l-.94 2.06-2.06.94zm10 10l.94 2.06.94-2.06 2.06-.94-2.06-.94-.94-2.06-.94 2.06-2.06.94z\"/><path d=\"M17.41 7.96l-1.37-1.37c-.4-.4-.92-.59-1.43-.59-.52 0-1.04.2-1.43.59L10.3 9.45l-7.72 7.72c-.78.78-.78 2.05 0 2.83L4 21.41c.39.39.9.59 1.41.59.51 0 1.02-.2 1.41-.59l7.78-7.78 2.81-2.81c.8-.78.8-2.07 0-2.86zM5.41 20L4 18.59l7.72-7.72 1.47 1.35L5.41 20z\"/>\n",
              "  </svg>\n",
              "      </button>\n",
              "      \n",
              "  <style>\n",
              "    .colab-df-container {\n",
              "      display:flex;\n",
              "      flex-wrap:wrap;\n",
              "      gap: 12px;\n",
              "    }\n",
              "\n",
              "    .colab-df-convert {\n",
              "      background-color: #E8F0FE;\n",
              "      border: none;\n",
              "      border-radius: 50%;\n",
              "      cursor: pointer;\n",
              "      display: none;\n",
              "      fill: #1967D2;\n",
              "      height: 32px;\n",
              "      padding: 0 0 0 0;\n",
              "      width: 32px;\n",
              "    }\n",
              "\n",
              "    .colab-df-convert:hover {\n",
              "      background-color: #E2EBFA;\n",
              "      box-shadow: 0px 1px 2px rgba(60, 64, 67, 0.3), 0px 1px 3px 1px rgba(60, 64, 67, 0.15);\n",
              "      fill: #174EA6;\n",
              "    }\n",
              "\n",
              "    [theme=dark] .colab-df-convert {\n",
              "      background-color: #3B4455;\n",
              "      fill: #D2E3FC;\n",
              "    }\n",
              "\n",
              "    [theme=dark] .colab-df-convert:hover {\n",
              "      background-color: #434B5C;\n",
              "      box-shadow: 0px 1px 3px 1px rgba(0, 0, 0, 0.15);\n",
              "      filter: drop-shadow(0px 1px 2px rgba(0, 0, 0, 0.3));\n",
              "      fill: #FFFFFF;\n",
              "    }\n",
              "  </style>\n",
              "\n",
              "      <script>\n",
              "        const buttonEl =\n",
              "          document.querySelector('#df-0519c9fb-e74b-47a1-acbc-b7ce61649951 button.colab-df-convert');\n",
              "        buttonEl.style.display =\n",
              "          google.colab.kernel.accessAllowed ? 'block' : 'none';\n",
              "\n",
              "        async function convertToInteractive(key) {\n",
              "          const element = document.querySelector('#df-0519c9fb-e74b-47a1-acbc-b7ce61649951');\n",
              "          const dataTable =\n",
              "            await google.colab.kernel.invokeFunction('convertToInteractive',\n",
              "                                                     [key], {});\n",
              "          if (!dataTable) return;\n",
              "\n",
              "          const docLinkHtml = 'Like what you see? Visit the ' +\n",
              "            '<a target=\"_blank\" href=https://colab.research.google.com/notebooks/data_table.ipynb>data table notebook</a>'\n",
              "            + ' to learn more about interactive tables.';\n",
              "          element.innerHTML = '';\n",
              "          dataTable['output_type'] = 'display_data';\n",
              "          await google.colab.output.renderOutput(dataTable, element);\n",
              "          const docLink = document.createElement('div');\n",
              "          docLink.innerHTML = docLinkHtml;\n",
              "          element.appendChild(docLink);\n",
              "        }\n",
              "      </script>\n",
              "    </div>\n",
              "  </div>\n",
              "  "
            ]
          },
          "metadata": {},
          "execution_count": 115
        }
      ]
    },
    {
      "cell_type": "code",
      "source": [
        "len(val)"
      ],
      "metadata": {
        "colab": {
          "base_uri": "https://localhost:8080/"
        },
        "id": "G_R5cEYBFNGu",
        "outputId": "c3bebfaf-f3f0-4f0d-baac-e50126557d2c"
      },
      "execution_count": null,
      "outputs": [
        {
          "output_type": "execute_result",
          "data": {
            "text/plain": [
              "8"
            ]
          },
          "metadata": {},
          "execution_count": 124
        }
      ]
    },
    {
      "cell_type": "code",
      "source": [
        "val['ChatGPTText'] = val.apply(lambda x: generate_similar_novel(x['BookTitle'], x['Name']), axis=1)"
      ],
      "metadata": {
        "colab": {
          "base_uri": "https://localhost:8080/"
        },
        "id": "6uEZsnDIfq5H",
        "outputId": "c8da046b-3a03-4d68-f31b-9dbc6a9c1cb0"
      },
      "execution_count": null,
      "outputs": [
        {
          "output_type": "stream",
          "name": "stdout",
          "text": [
            "Generating novel similar to The American Claimant by Mark Twain\n",
            "Generating novel similar to Before Adam by Jack London\n",
            "Generating novel similar to The Adventure of the Cardboard Box by Arthur Conan Doyle\n",
            "Generating novel similar to No Name by Wilkie Collins\n",
            "Generating novel similar to Hide and Seek by Wilkie Collins\n",
            "Generating novel similar to The Doings of Raffles Haw by Arthur Conan Doyle\n",
            "Generating novel similar to She by Henry Rider Haggard\n",
            "Generating novel similar to Morning Star by Henry Rider Haggard\n"
          ]
        }
      ]
    },
    {
      "cell_type": "code",
      "source": [
        "val.head()"
      ],
      "metadata": {
        "colab": {
          "base_uri": "https://localhost:8080/",
          "height": 441
        },
        "id": "xGxz-i0HILdd",
        "outputId": "0d2f2f41-1894-4a47-fe16-7e93ef1daff3"
      },
      "execution_count": null,
      "outputs": [
        {
          "output_type": "execute_result",
          "data": {
            "text/plain": [
              "     BookID  AuthorID                Name                           BookTitle  \\\n",
              "17     3179        53          Mark Twain               The American Claimant   \n",
              "253     310       120         Jack London                         Before Adam   \n",
              "149    2344        69  Arthur Conan Doyle  The Adventure of the Cardboard Box   \n",
              "1      1438        98      Wilkie Collins                             No Name   \n",
              "72     7893        98      Wilkie Collins                       Hide and Seek   \n",
              "\n",
              "     Genre                                           BookText     Source  \\\n",
              "17   Novel  ﻿The Project Gutenberg eBook of The American C...  gutenberg   \n",
              "253  Novel  ﻿The Project Gutenberg eBook of Before Adam, b...  gutenberg   \n",
              "149  Novel  Project Gutenberg's The Adventure of the Cardb...  gutenberg   \n",
              "1    Novel  ﻿\\r\\nThe Project Gutenberg EBook of No Name, b...  gutenberg   \n",
              "72   Novel  ﻿The Project Gutenberg EBook of Hide and Seek,...  gutenberg   \n",
              "\n",
              "                                           ChatGPTText  \n",
              "17   Chapter 1\\n\\nThe sun was setting over the smal...  \n",
              "253  Chapter 1\\n\\nI was born in a world that was no...  \n",
              "149  Chapter 1\\n\\nIt was a hot summer day in London...  \n",
              "1    Chapter 1\\n\\nThe sun was setting over the smal...  \n",
              "72   Chapter 1\\n\\nIt was a dark and stormy night wh...  "
            ],
            "text/html": [
              "\n",
              "  <div id=\"df-058f885f-3a8d-495b-adb8-009ba9443fea\">\n",
              "    <div class=\"colab-df-container\">\n",
              "      <div>\n",
              "<style scoped>\n",
              "    .dataframe tbody tr th:only-of-type {\n",
              "        vertical-align: middle;\n",
              "    }\n",
              "\n",
              "    .dataframe tbody tr th {\n",
              "        vertical-align: top;\n",
              "    }\n",
              "\n",
              "    .dataframe thead th {\n",
              "        text-align: right;\n",
              "    }\n",
              "</style>\n",
              "<table border=\"1\" class=\"dataframe\">\n",
              "  <thead>\n",
              "    <tr style=\"text-align: right;\">\n",
              "      <th></th>\n",
              "      <th>BookID</th>\n",
              "      <th>AuthorID</th>\n",
              "      <th>Name</th>\n",
              "      <th>BookTitle</th>\n",
              "      <th>Genre</th>\n",
              "      <th>BookText</th>\n",
              "      <th>Source</th>\n",
              "      <th>ChatGPTText</th>\n",
              "    </tr>\n",
              "  </thead>\n",
              "  <tbody>\n",
              "    <tr>\n",
              "      <th>17</th>\n",
              "      <td>3179</td>\n",
              "      <td>53</td>\n",
              "      <td>Mark Twain</td>\n",
              "      <td>The American Claimant</td>\n",
              "      <td>Novel</td>\n",
              "      <td>﻿The Project Gutenberg eBook of The American C...</td>\n",
              "      <td>gutenberg</td>\n",
              "      <td>Chapter 1\\n\\nThe sun was setting over the smal...</td>\n",
              "    </tr>\n",
              "    <tr>\n",
              "      <th>253</th>\n",
              "      <td>310</td>\n",
              "      <td>120</td>\n",
              "      <td>Jack London</td>\n",
              "      <td>Before Adam</td>\n",
              "      <td>Novel</td>\n",
              "      <td>﻿The Project Gutenberg eBook of Before Adam, b...</td>\n",
              "      <td>gutenberg</td>\n",
              "      <td>Chapter 1\\n\\nI was born in a world that was no...</td>\n",
              "    </tr>\n",
              "    <tr>\n",
              "      <th>149</th>\n",
              "      <td>2344</td>\n",
              "      <td>69</td>\n",
              "      <td>Arthur Conan Doyle</td>\n",
              "      <td>The Adventure of the Cardboard Box</td>\n",
              "      <td>Novel</td>\n",
              "      <td>Project Gutenberg's The Adventure of the Cardb...</td>\n",
              "      <td>gutenberg</td>\n",
              "      <td>Chapter 1\\n\\nIt was a hot summer day in London...</td>\n",
              "    </tr>\n",
              "    <tr>\n",
              "      <th>1</th>\n",
              "      <td>1438</td>\n",
              "      <td>98</td>\n",
              "      <td>Wilkie Collins</td>\n",
              "      <td>No Name</td>\n",
              "      <td>Novel</td>\n",
              "      <td>﻿\\r\\nThe Project Gutenberg EBook of No Name, b...</td>\n",
              "      <td>gutenberg</td>\n",
              "      <td>Chapter 1\\n\\nThe sun was setting over the smal...</td>\n",
              "    </tr>\n",
              "    <tr>\n",
              "      <th>72</th>\n",
              "      <td>7893</td>\n",
              "      <td>98</td>\n",
              "      <td>Wilkie Collins</td>\n",
              "      <td>Hide and Seek</td>\n",
              "      <td>Novel</td>\n",
              "      <td>﻿The Project Gutenberg EBook of Hide and Seek,...</td>\n",
              "      <td>gutenberg</td>\n",
              "      <td>Chapter 1\\n\\nIt was a dark and stormy night wh...</td>\n",
              "    </tr>\n",
              "  </tbody>\n",
              "</table>\n",
              "</div>\n",
              "      <button class=\"colab-df-convert\" onclick=\"convertToInteractive('df-058f885f-3a8d-495b-adb8-009ba9443fea')\"\n",
              "              title=\"Convert this dataframe to an interactive table.\"\n",
              "              style=\"display:none;\">\n",
              "        \n",
              "  <svg xmlns=\"http://www.w3.org/2000/svg\" height=\"24px\"viewBox=\"0 0 24 24\"\n",
              "       width=\"24px\">\n",
              "    <path d=\"M0 0h24v24H0V0z\" fill=\"none\"/>\n",
              "    <path d=\"M18.56 5.44l.94 2.06.94-2.06 2.06-.94-2.06-.94-.94-2.06-.94 2.06-2.06.94zm-11 1L8.5 8.5l.94-2.06 2.06-.94-2.06-.94L8.5 2.5l-.94 2.06-2.06.94zm10 10l.94 2.06.94-2.06 2.06-.94-2.06-.94-.94-2.06-.94 2.06-2.06.94z\"/><path d=\"M17.41 7.96l-1.37-1.37c-.4-.4-.92-.59-1.43-.59-.52 0-1.04.2-1.43.59L10.3 9.45l-7.72 7.72c-.78.78-.78 2.05 0 2.83L4 21.41c.39.39.9.59 1.41.59.51 0 1.02-.2 1.41-.59l7.78-7.78 2.81-2.81c.8-.78.8-2.07 0-2.86zM5.41 20L4 18.59l7.72-7.72 1.47 1.35L5.41 20z\"/>\n",
              "  </svg>\n",
              "      </button>\n",
              "      \n",
              "  <style>\n",
              "    .colab-df-container {\n",
              "      display:flex;\n",
              "      flex-wrap:wrap;\n",
              "      gap: 12px;\n",
              "    }\n",
              "\n",
              "    .colab-df-convert {\n",
              "      background-color: #E8F0FE;\n",
              "      border: none;\n",
              "      border-radius: 50%;\n",
              "      cursor: pointer;\n",
              "      display: none;\n",
              "      fill: #1967D2;\n",
              "      height: 32px;\n",
              "      padding: 0 0 0 0;\n",
              "      width: 32px;\n",
              "    }\n",
              "\n",
              "    .colab-df-convert:hover {\n",
              "      background-color: #E2EBFA;\n",
              "      box-shadow: 0px 1px 2px rgba(60, 64, 67, 0.3), 0px 1px 3px 1px rgba(60, 64, 67, 0.15);\n",
              "      fill: #174EA6;\n",
              "    }\n",
              "\n",
              "    [theme=dark] .colab-df-convert {\n",
              "      background-color: #3B4455;\n",
              "      fill: #D2E3FC;\n",
              "    }\n",
              "\n",
              "    [theme=dark] .colab-df-convert:hover {\n",
              "      background-color: #434B5C;\n",
              "      box-shadow: 0px 1px 3px 1px rgba(0, 0, 0, 0.15);\n",
              "      filter: drop-shadow(0px 1px 2px rgba(0, 0, 0, 0.3));\n",
              "      fill: #FFFFFF;\n",
              "    }\n",
              "  </style>\n",
              "\n",
              "      <script>\n",
              "        const buttonEl =\n",
              "          document.querySelector('#df-058f885f-3a8d-495b-adb8-009ba9443fea button.colab-df-convert');\n",
              "        buttonEl.style.display =\n",
              "          google.colab.kernel.accessAllowed ? 'block' : 'none';\n",
              "\n",
              "        async function convertToInteractive(key) {\n",
              "          const element = document.querySelector('#df-058f885f-3a8d-495b-adb8-009ba9443fea');\n",
              "          const dataTable =\n",
              "            await google.colab.kernel.invokeFunction('convertToInteractive',\n",
              "                                                     [key], {});\n",
              "          if (!dataTable) return;\n",
              "\n",
              "          const docLinkHtml = 'Like what you see? Visit the ' +\n",
              "            '<a target=\"_blank\" href=https://colab.research.google.com/notebooks/data_table.ipynb>data table notebook</a>'\n",
              "            + ' to learn more about interactive tables.';\n",
              "          element.innerHTML = '';\n",
              "          dataTable['output_type'] = 'display_data';\n",
              "          await google.colab.output.renderOutput(dataTable, element);\n",
              "          const docLink = document.createElement('div');\n",
              "          docLink.innerHTML = docLinkHtml;\n",
              "          element.appendChild(docLink);\n",
              "        }\n",
              "      </script>\n",
              "    </div>\n",
              "  </div>\n",
              "  "
            ]
          },
          "metadata": {},
          "execution_count": 125
        }
      ]
    },
    {
      "cell_type": "code",
      "source": [
        "huggingface_repo = '/content/ChatGPT'"
      ],
      "metadata": {
        "id": "nIKshMiDLihD"
      },
      "execution_count": null,
      "outputs": []
    },
    {
      "cell_type": "code",
      "source": [
        "# train_test splits\n",
        "train.to_csv(f'{huggingface_repo}/train_gpt.csv', index=False)\n"
      ],
      "metadata": {
        "id": "Z3c-VEjWKxv8"
      },
      "execution_count": null,
      "outputs": []
    },
    {
      "cell_type": "code",
      "source": [
        "test.to_csv(f'{huggingface_repo}/test_gpt.csv', index=False)"
      ],
      "metadata": {
        "id": "iPPSl6YSFFiN"
      },
      "execution_count": null,
      "outputs": []
    },
    {
      "cell_type": "code",
      "source": [
        "\n",
        "val.to_csv(f'{huggingface_repo}/val_gpt.csv', index=False)"
      ],
      "metadata": {
        "id": "ajCv4aO2iDPQ"
      },
      "execution_count": null,
      "outputs": []
    },
    {
      "cell_type": "markdown",
      "source": [
        "# Preprocess Dataset"
      ],
      "metadata": {
        "id": "oB4F7LXexhiq"
      }
    },
    {
      "cell_type": "code",
      "source": [
        "# set BookText to OldBookText and cleaned text as BookText"
      ],
      "metadata": {
        "id": "WJ_1bz5lxnWI"
      },
      "execution_count": null,
      "outputs": []
    },
    {
      "cell_type": "code",
      "source": [
        "from gutenberg_cleaner import super_cleaner\n",
        "import nltk\n",
        "from nltk.corpus import stopwords\n",
        "import re\n",
        "import string\n",
        "nltk.download('stopwords')"
      ],
      "metadata": {
        "colab": {
          "base_uri": "https://localhost:8080/"
        },
        "id": "E3gIAoMyycuv",
        "outputId": "5ba5b9fb-82c9-40cd-d4d8-ba534d0cbbb2"
      },
      "execution_count": null,
      "outputs": [
        {
          "output_type": "stream",
          "name": "stderr",
          "text": [
            "[nltk_data] Downloading package stopwords to /root/nltk_data...\n",
            "[nltk_data]   Unzipping corpora/stopwords.zip.\n"
          ]
        },
        {
          "output_type": "execute_result",
          "data": {
            "text/plain": [
              "True"
            ]
          },
          "metadata": {},
          "execution_count": 21
        }
      ]
    },
    {
      "cell_type": "code",
      "source": [
        "def preprocess_text(text):\n",
        "  text_data = super_cleaner(text, max_token=len(text))\n",
        "  text_data = text_data.replace('[deleted]', '')\n",
        "\n",
        "  # to lowercase\n",
        "  text_data = text_data.lower()\n",
        "\n",
        "  # replace hyphen\n",
        "  text_data = text_data.replace(\"-\",\" \")\n",
        "\n",
        "  # remove stop words (only when it includes punctuation)\n",
        "  for w in stopwords.words(\"english\"):\n",
        "      if re.match(\"(^|\\w+)[%s](\\w+|$)\" % re.escape(string.punctuation), w):\n",
        "          text_data = re.sub(r\"(^|\\s+)%s(\\s+|$)\" % re.escape(w),\" \",text_data)\n",
        "  text_data = text_data.strip()\n",
        "\n",
        "  # remove punctuation\n",
        "  text_data = re.sub(r\"[%s]\" % re.escape(string.punctuation),\"\",text_data)\n",
        "  text_data = text_data.strip()\n",
        "\n",
        "  # remove stop words (only when it doesn't include punctuation)\n",
        "  for w in stopwords.words(\"english\"):\n",
        "      if not re.match(\"(^|\\w+)[%s](\\w+|$)\" % re.escape(string.punctuation), w):\n",
        "          text_data = re.sub(r\"(^|\\s+)%s(\\s+|$)\" % re.escape(w),\" \",text_data)\n",
        "  text_data = text_data.strip()\n",
        "\n",
        "  text_data = text_data.replace('\\n', ' ').replace('\\r', '')\n",
        "\n",
        "  return text_data"
      ],
      "metadata": {
        "id": "jBU1SBd4yXKI"
      },
      "execution_count": null,
      "outputs": []
    },
    {
      "cell_type": "code",
      "source": [
        "def preprocess_df(df):\n",
        "  df.rename(columns={\"BookText\": \"OldBookText\"}, inplace=True)\n",
        "  df['BookText'] = df.OldBookText.apply(lambda x: preprocess_text(x))"
      ],
      "metadata": {
        "id": "xBhFEhVj_jnR"
      },
      "execution_count": null,
      "outputs": []
    },
    {
      "cell_type": "code",
      "source": [
        "def preprocess_chatgpt_df(df):\n",
        "  df.rename(columns={\"ChatGPTText\": \"OldChatGPTText\"}, inplace=True)\n",
        "  df['ChatGPTText'] = df.OldChatGPTText.apply(lambda x: preprocess_text(x))"
      ],
      "metadata": {
        "id": "SRKxQ2gRzOAM"
      },
      "execution_count": null,
      "outputs": []
    },
    {
      "cell_type": "code",
      "source": [
        "test = pd.read_csv('/content/ChatGPT/test.csv')\n",
        "test_gpt = pd.read_csv('/content/ChatGPT/test_gpt.csv')\n",
        "train = pd.read_csv('/content/ChatGPT/train.csv')\n",
        "train_gpt = pd.read_csv('/content/ChatGPT/train_gpt.csv')\n",
        "val = pd.read_csv('/content/ChatGPT/val.csv')\n",
        "val_gpt = pd.read_csv('/content/ChatGPT/val_gpt.csv')"
      ],
      "metadata": {
        "id": "0Ba37Sh5z4Ja"
      },
      "execution_count": null,
      "outputs": []
    },
    {
      "cell_type": "code",
      "source": [
        "preprocess_df(train)"
      ],
      "metadata": {
        "id": "R8Bx9la10a2S"
      },
      "execution_count": null,
      "outputs": []
    },
    {
      "cell_type": "code",
      "source": [
        "train_gpt['AuthorID'].unique()"
      ],
      "metadata": {
        "colab": {
          "base_uri": "https://localhost:8080/"
        },
        "id": "L3hqx-hZ_G-I",
        "outputId": "c90ef1d1-05ba-452b-e65a-f02235056c20"
      },
      "execution_count": null,
      "outputs": [
        {
          "output_type": "execute_result",
          "data": {
            "text/plain": [
              "array([ 69, 365,  53, 120,  98])"
            ]
          },
          "metadata": {},
          "execution_count": 108
        }
      ]
    },
    {
      "cell_type": "code",
      "source": [
        "preprocess_df(train_gpt)"
      ],
      "metadata": {
        "id": "TeiDQw6D4qzf"
      },
      "execution_count": null,
      "outputs": []
    },
    {
      "cell_type": "code",
      "source": [
        "preprocess_chatgpt_df(train_gpt)"
      ],
      "metadata": {
        "id": "q4As2Vku_65O"
      },
      "execution_count": null,
      "outputs": []
    },
    {
      "cell_type": "code",
      "source": [
        "train_gpt.info()"
      ],
      "metadata": {
        "colab": {
          "base_uri": "https://localhost:8080/"
        },
        "id": "yqqT1Tna_LLH",
        "outputId": "8b785bf9-5894-42c4-8e2b-3b65181e3569"
      },
      "execution_count": null,
      "outputs": [
        {
          "output_type": "stream",
          "name": "stdout",
          "text": [
            "<class 'pandas.core.frame.DataFrame'>\n",
            "RangeIndex: 72 entries, 0 to 71\n",
            "Data columns (total 10 columns):\n",
            " #   Column          Non-Null Count  Dtype \n",
            "---  ------          --------------  ----- \n",
            " 0   BookID          72 non-null     int64 \n",
            " 1   AuthorID        72 non-null     int64 \n",
            " 2   Name            72 non-null     object\n",
            " 3   BookTitle       72 non-null     object\n",
            " 4   Genre           72 non-null     object\n",
            " 5   OldBookText     72 non-null     object\n",
            " 6   Source          72 non-null     object\n",
            " 7   OldChatGPTText  72 non-null     object\n",
            " 8   BookText        72 non-null     object\n",
            " 9   ChatGPTText     72 non-null     object\n",
            "dtypes: int64(2), object(8)\n",
            "memory usage: 5.8+ KB\n"
          ]
        }
      ]
    },
    {
      "cell_type": "code",
      "source": [
        "preprocess_df(test)\n",
        "preprocess_df(test_gpt)"
      ],
      "metadata": {
        "id": "vy8-goSi7xS-"
      },
      "execution_count": null,
      "outputs": []
    },
    {
      "cell_type": "code",
      "source": [
        "preprocess_chatgpt_df(test_gpt)"
      ],
      "metadata": {
        "id": "7R4nL9iJADNW"
      },
      "execution_count": null,
      "outputs": []
    },
    {
      "cell_type": "code",
      "source": [
        "preprocess_df(val)\n",
        "preprocess_df(val_gpt)"
      ],
      "metadata": {
        "id": "1ucjF40y72bZ"
      },
      "execution_count": null,
      "outputs": []
    },
    {
      "cell_type": "code",
      "source": [
        "preprocess_chatgpt_df(val_gpt)"
      ],
      "metadata": {
        "id": "KnyO5IReAHw4"
      },
      "execution_count": null,
      "outputs": []
    },
    {
      "cell_type": "code",
      "source": [
        "val_gpt.head()"
      ],
      "metadata": {
        "colab": {
          "base_uri": "https://localhost:8080/",
          "height": 738
        },
        "id": "VAvhwE3aAK9D",
        "outputId": "15729c18-48ef-41ef-8a1e-282873c699f5"
      },
      "execution_count": null,
      "outputs": [
        {
          "output_type": "execute_result",
          "data": {
            "text/plain": [
              "   BookID  AuthorID                Name                           BookTitle  \\\n",
              "0    3179        53          Mark Twain               The American Claimant   \n",
              "1     310       120         Jack London                         Before Adam   \n",
              "2    2344        69  Arthur Conan Doyle  The Adventure of the Cardboard Box   \n",
              "3    1438        98      Wilkie Collins                             No Name   \n",
              "4    7893        98      Wilkie Collins                       Hide and Seek   \n",
              "\n",
              "   Genre                                        OldBookText     Source  \\\n",
              "0  Novel  ﻿The Project Gutenberg eBook of The American C...  gutenberg   \n",
              "1  Novel  ﻿The Project Gutenberg eBook of Before Adam, b...  gutenberg   \n",
              "2  Novel  Project Gutenberg's The Adventure of the Cardb...  gutenberg   \n",
              "3  Novel  ﻿\\r\\nThe Project Gutenberg EBook of No Name, b...  gutenberg   \n",
              "4  Novel  ﻿The Project Gutenberg EBook of Hide and Seek,...  gutenberg   \n",
              "\n",
              "                                      OldChatGPTText  \\\n",
              "0  Chapter 1\\n\\nThe sun was setting over the smal...   \n",
              "1  Chapter 1\\n\\nI was born in a world that was no...   \n",
              "2  Chapter 1\\n\\nIt was a hot summer day in London...   \n",
              "3  Chapter 1\\n\\nThe sun was setting over the smal...   \n",
              "4  Chapter 1\\n\\nIt was a dark and stormy night wh...   \n",
              "\n",
              "                                            BookText  \\\n",
              "0  chapter earl rossmore vs american claimant—vis...   \n",
              "1  “these ancestors history history remember sure...   \n",
              "2  adventure cardboard box choosing typical cases...   \n",
              "3  main purpose story appeal reader’s interest su...   \n",
              "4  novel ranks third order succession works ficti...   \n",
              "\n",
              "                                         ChatGPTText  \n",
              "0  sun setting small town millville casting warm ...  \n",
              "1  born world like world today world wildness dan...  \n",
              "2  hot summer day london sherlock holmes sitting ...  \n",
              "3  sun setting small village oakwood casting warm...  \n",
              "4  dark stormy night young beautiful emily arrive...  "
            ],
            "text/html": [
              "\n",
              "  <div id=\"df-683e89b9-33ba-40b6-9d36-6b5df4728f4f\">\n",
              "    <div class=\"colab-df-container\">\n",
              "      <div>\n",
              "<style scoped>\n",
              "    .dataframe tbody tr th:only-of-type {\n",
              "        vertical-align: middle;\n",
              "    }\n",
              "\n",
              "    .dataframe tbody tr th {\n",
              "        vertical-align: top;\n",
              "    }\n",
              "\n",
              "    .dataframe thead th {\n",
              "        text-align: right;\n",
              "    }\n",
              "</style>\n",
              "<table border=\"1\" class=\"dataframe\">\n",
              "  <thead>\n",
              "    <tr style=\"text-align: right;\">\n",
              "      <th></th>\n",
              "      <th>BookID</th>\n",
              "      <th>AuthorID</th>\n",
              "      <th>Name</th>\n",
              "      <th>BookTitle</th>\n",
              "      <th>Genre</th>\n",
              "      <th>OldBookText</th>\n",
              "      <th>Source</th>\n",
              "      <th>OldChatGPTText</th>\n",
              "      <th>BookText</th>\n",
              "      <th>ChatGPTText</th>\n",
              "    </tr>\n",
              "  </thead>\n",
              "  <tbody>\n",
              "    <tr>\n",
              "      <th>0</th>\n",
              "      <td>3179</td>\n",
              "      <td>53</td>\n",
              "      <td>Mark Twain</td>\n",
              "      <td>The American Claimant</td>\n",
              "      <td>Novel</td>\n",
              "      <td>﻿The Project Gutenberg eBook of The American C...</td>\n",
              "      <td>gutenberg</td>\n",
              "      <td>Chapter 1\\n\\nThe sun was setting over the smal...</td>\n",
              "      <td>chapter earl rossmore vs american claimant—vis...</td>\n",
              "      <td>sun setting small town millville casting warm ...</td>\n",
              "    </tr>\n",
              "    <tr>\n",
              "      <th>1</th>\n",
              "      <td>310</td>\n",
              "      <td>120</td>\n",
              "      <td>Jack London</td>\n",
              "      <td>Before Adam</td>\n",
              "      <td>Novel</td>\n",
              "      <td>﻿The Project Gutenberg eBook of Before Adam, b...</td>\n",
              "      <td>gutenberg</td>\n",
              "      <td>Chapter 1\\n\\nI was born in a world that was no...</td>\n",
              "      <td>“these ancestors history history remember sure...</td>\n",
              "      <td>born world like world today world wildness dan...</td>\n",
              "    </tr>\n",
              "    <tr>\n",
              "      <th>2</th>\n",
              "      <td>2344</td>\n",
              "      <td>69</td>\n",
              "      <td>Arthur Conan Doyle</td>\n",
              "      <td>The Adventure of the Cardboard Box</td>\n",
              "      <td>Novel</td>\n",
              "      <td>Project Gutenberg's The Adventure of the Cardb...</td>\n",
              "      <td>gutenberg</td>\n",
              "      <td>Chapter 1\\n\\nIt was a hot summer day in London...</td>\n",
              "      <td>adventure cardboard box choosing typical cases...</td>\n",
              "      <td>hot summer day london sherlock holmes sitting ...</td>\n",
              "    </tr>\n",
              "    <tr>\n",
              "      <th>3</th>\n",
              "      <td>1438</td>\n",
              "      <td>98</td>\n",
              "      <td>Wilkie Collins</td>\n",
              "      <td>No Name</td>\n",
              "      <td>Novel</td>\n",
              "      <td>﻿\\r\\nThe Project Gutenberg EBook of No Name, b...</td>\n",
              "      <td>gutenberg</td>\n",
              "      <td>Chapter 1\\n\\nThe sun was setting over the smal...</td>\n",
              "      <td>main purpose story appeal reader’s interest su...</td>\n",
              "      <td>sun setting small village oakwood casting warm...</td>\n",
              "    </tr>\n",
              "    <tr>\n",
              "      <th>4</th>\n",
              "      <td>7893</td>\n",
              "      <td>98</td>\n",
              "      <td>Wilkie Collins</td>\n",
              "      <td>Hide and Seek</td>\n",
              "      <td>Novel</td>\n",
              "      <td>﻿The Project Gutenberg EBook of Hide and Seek,...</td>\n",
              "      <td>gutenberg</td>\n",
              "      <td>Chapter 1\\n\\nIt was a dark and stormy night wh...</td>\n",
              "      <td>novel ranks third order succession works ficti...</td>\n",
              "      <td>dark stormy night young beautiful emily arrive...</td>\n",
              "    </tr>\n",
              "  </tbody>\n",
              "</table>\n",
              "</div>\n",
              "      <button class=\"colab-df-convert\" onclick=\"convertToInteractive('df-683e89b9-33ba-40b6-9d36-6b5df4728f4f')\"\n",
              "              title=\"Convert this dataframe to an interactive table.\"\n",
              "              style=\"display:none;\">\n",
              "        \n",
              "  <svg xmlns=\"http://www.w3.org/2000/svg\" height=\"24px\"viewBox=\"0 0 24 24\"\n",
              "       width=\"24px\">\n",
              "    <path d=\"M0 0h24v24H0V0z\" fill=\"none\"/>\n",
              "    <path d=\"M18.56 5.44l.94 2.06.94-2.06 2.06-.94-2.06-.94-.94-2.06-.94 2.06-2.06.94zm-11 1L8.5 8.5l.94-2.06 2.06-.94-2.06-.94L8.5 2.5l-.94 2.06-2.06.94zm10 10l.94 2.06.94-2.06 2.06-.94-2.06-.94-.94-2.06-.94 2.06-2.06.94z\"/><path d=\"M17.41 7.96l-1.37-1.37c-.4-.4-.92-.59-1.43-.59-.52 0-1.04.2-1.43.59L10.3 9.45l-7.72 7.72c-.78.78-.78 2.05 0 2.83L4 21.41c.39.39.9.59 1.41.59.51 0 1.02-.2 1.41-.59l7.78-7.78 2.81-2.81c.8-.78.8-2.07 0-2.86zM5.41 20L4 18.59l7.72-7.72 1.47 1.35L5.41 20z\"/>\n",
              "  </svg>\n",
              "      </button>\n",
              "      \n",
              "  <style>\n",
              "    .colab-df-container {\n",
              "      display:flex;\n",
              "      flex-wrap:wrap;\n",
              "      gap: 12px;\n",
              "    }\n",
              "\n",
              "    .colab-df-convert {\n",
              "      background-color: #E8F0FE;\n",
              "      border: none;\n",
              "      border-radius: 50%;\n",
              "      cursor: pointer;\n",
              "      display: none;\n",
              "      fill: #1967D2;\n",
              "      height: 32px;\n",
              "      padding: 0 0 0 0;\n",
              "      width: 32px;\n",
              "    }\n",
              "\n",
              "    .colab-df-convert:hover {\n",
              "      background-color: #E2EBFA;\n",
              "      box-shadow: 0px 1px 2px rgba(60, 64, 67, 0.3), 0px 1px 3px 1px rgba(60, 64, 67, 0.15);\n",
              "      fill: #174EA6;\n",
              "    }\n",
              "\n",
              "    [theme=dark] .colab-df-convert {\n",
              "      background-color: #3B4455;\n",
              "      fill: #D2E3FC;\n",
              "    }\n",
              "\n",
              "    [theme=dark] .colab-df-convert:hover {\n",
              "      background-color: #434B5C;\n",
              "      box-shadow: 0px 1px 3px 1px rgba(0, 0, 0, 0.15);\n",
              "      filter: drop-shadow(0px 1px 2px rgba(0, 0, 0, 0.3));\n",
              "      fill: #FFFFFF;\n",
              "    }\n",
              "  </style>\n",
              "\n",
              "      <script>\n",
              "        const buttonEl =\n",
              "          document.querySelector('#df-683e89b9-33ba-40b6-9d36-6b5df4728f4f button.colab-df-convert');\n",
              "        buttonEl.style.display =\n",
              "          google.colab.kernel.accessAllowed ? 'block' : 'none';\n",
              "\n",
              "        async function convertToInteractive(key) {\n",
              "          const element = document.querySelector('#df-683e89b9-33ba-40b6-9d36-6b5df4728f4f');\n",
              "          const dataTable =\n",
              "            await google.colab.kernel.invokeFunction('convertToInteractive',\n",
              "                                                     [key], {});\n",
              "          if (!dataTable) return;\n",
              "\n",
              "          const docLinkHtml = 'Like what you see? Visit the ' +\n",
              "            '<a target=\"_blank\" href=https://colab.research.google.com/notebooks/data_table.ipynb>data table notebook</a>'\n",
              "            + ' to learn more about interactive tables.';\n",
              "          element.innerHTML = '';\n",
              "          dataTable['output_type'] = 'display_data';\n",
              "          await google.colab.output.renderOutput(dataTable, element);\n",
              "          const docLink = document.createElement('div');\n",
              "          docLink.innerHTML = docLinkHtml;\n",
              "          element.appendChild(docLink);\n",
              "        }\n",
              "      </script>\n",
              "    </div>\n",
              "  </div>\n",
              "  "
            ]
          },
          "metadata": {},
          "execution_count": 90
        }
      ]
    },
    {
      "cell_type": "code",
      "source": [
        "huggingface_repo = '/content/ChatGPT'"
      ],
      "metadata": {
        "id": "JlIwTkopAgDW"
      },
      "execution_count": null,
      "outputs": []
    },
    {
      "cell_type": "code",
      "source": [
        "# train_test splits\n",
        "train_gpt.to_csv(f'{huggingface_repo}/train_gpt.csv', index=False)\n",
        "test_gpt.to_csv(f'{huggingface_repo}/test_gpt.csv', index=False)\n",
        "val_gpt.to_csv(f'{huggingface_repo}/val_gpt.csv', index=False)"
      ],
      "metadata": {
        "id": "ZSNTPpAM-u6x"
      },
      "execution_count": null,
      "outputs": []
    },
    {
      "cell_type": "code",
      "source": [
        "train.to_csv(f'{huggingface_repo}/train.csv', index=False)\n",
        "test.to_csv(f'{huggingface_repo}/test.csv', index=False)\n",
        "val.to_csv(f'{huggingface_repo}/val.csv', index=False)"
      ],
      "metadata": {
        "id": "PZ7EirZ--u6z"
      },
      "execution_count": null,
      "outputs": []
    },
    {
      "cell_type": "markdown",
      "source": [
        "# RQ1: ChatGPT vs Author - Binary"
      ],
      "metadata": {
        "id": "11bs-rkaIWCP"
      }
    },
    {
      "cell_type": "code",
      "source": [
        "train,test,val = train_gpt,test_gpt,val_gpt"
      ],
      "metadata": {
        "id": "vIRNGV2RBsQI"
      },
      "execution_count": null,
      "outputs": []
    },
    {
      "cell_type": "code",
      "source": [
        "train.info()"
      ],
      "metadata": {
        "colab": {
          "base_uri": "https://localhost:8080/"
        },
        "id": "0tQLpqj6ByFE",
        "outputId": "4fce61a2-5b96-479d-a4bf-6f391d715639"
      },
      "execution_count": null,
      "outputs": [
        {
          "output_type": "stream",
          "name": "stdout",
          "text": [
            "<class 'pandas.core.frame.DataFrame'>\n",
            "RangeIndex: 72 entries, 0 to 71\n",
            "Data columns (total 10 columns):\n",
            " #   Column          Non-Null Count  Dtype \n",
            "---  ------          --------------  ----- \n",
            " 0   BookID          72 non-null     int64 \n",
            " 1   AuthorID        72 non-null     int64 \n",
            " 2   Name            72 non-null     object\n",
            " 3   BookTitle       72 non-null     object\n",
            " 4   Genre           72 non-null     object\n",
            " 5   OldBookText     72 non-null     object\n",
            " 6   Source          72 non-null     object\n",
            " 7   OldChatGPTText  72 non-null     object\n",
            " 8   BookText        72 non-null     object\n",
            " 9   ChatGPTText     72 non-null     object\n",
            "dtypes: int64(2), object(8)\n",
            "memory usage: 5.8+ KB\n"
          ]
        }
      ]
    },
    {
      "cell_type": "code",
      "source": [
        "def create_binary_datasets(author_name, dataset, path):\n",
        "  df_ACD_train = dataset[dataset.Name ==author_name]\n",
        "\n",
        "  df_gpt = df_ACD_train[['BookID', 'AuthorID', 'Name','BookTitle', 'Genre', 'ChatGPTText', 'Source']]\n",
        "  df_gpt.AuthorID = 9999\n",
        "  df_gpt.Name = 'Chat GPT'\n",
        "  df_gpt['BookTitle'] = df_gpt.apply(lambda x: 'ChatGPT_{0}'.format(x['BookTitle']), axis=1)\n",
        "  df_gpt.Source = 'Chat GPT'\n",
        "  df_gpt = df_gpt.rename(columns={'ChatGPTText': 'BookText'})\n",
        "\n",
        "  df_ACD_train.drop(columns=['ChatGPTText', 'OldChatGPTText', 'OldBookText'], axis=1, inplace=True)\n",
        "  result = pd.concat([df_ACD_train, df_gpt])\n",
        "\n",
        "  result.to_csv(f'{path}', index=False)"
      ],
      "metadata": {
        "id": "Qo1PAXbgL_1E"
      },
      "execution_count": null,
      "outputs": []
    },
    {
      "cell_type": "code",
      "source": [
        "def create_binary_dataset_train_test_splits(author_name,author_initials, train, test, val):\n",
        "  create_binary_datasets(author_name, train, f'/content/ChatGPT/binary/{author_initials}/train.csv')\n",
        "  create_binary_datasets(author_name, test, f'/content/ChatGPT/binary/{author_initials}/test.csv')\n",
        "  create_binary_datasets(author_name, val, f'/content/ChatGPT/binary/{author_initials}/val.csv')"
      ],
      "metadata": {
        "id": "n4nDTkKZMy3z"
      },
      "execution_count": null,
      "outputs": []
    },
    {
      "cell_type": "code",
      "source": [
        "# ACD\n",
        "create_binary_dataset_train_test_splits('Arthur Conan Doyle','ACD', train,test,val)\n",
        "\n",
        "# HRD\n",
        "create_binary_dataset_train_test_splits('Henry Rider Haggard','HRD', train,test,val)\n",
        "\n",
        "# JL\n",
        "create_binary_dataset_train_test_splits('Jack London','JL', train,test,val)\n",
        "\n",
        "# MT\n",
        "create_binary_dataset_train_test_splits('Mark Twain','MT', train,test,val)\n",
        "\n",
        "# WK\n",
        "create_binary_dataset_train_test_splits('Wilkie Collins','WK', train,test,val)"
      ],
      "metadata": {
        "colab": {
          "base_uri": "https://localhost:8080/"
        },
        "id": "6NbZ94i1Igy0",
        "outputId": "82365d7c-b52c-4c8f-8545-a59225de7c88"
      },
      "execution_count": null,
      "outputs": [
        {
          "output_type": "stream",
          "name": "stderr",
          "text": [
            "<ipython-input-114-64e6268072fc>:5: SettingWithCopyWarning: \n",
            "A value is trying to be set on a copy of a slice from a DataFrame.\n",
            "Try using .loc[row_indexer,col_indexer] = value instead\n",
            "\n",
            "See the caveats in the documentation: https://pandas.pydata.org/pandas-docs/stable/user_guide/indexing.html#returning-a-view-versus-a-copy\n",
            "  df_gpt.AuthorID = 9999\n",
            "<ipython-input-114-64e6268072fc>:6: SettingWithCopyWarning: \n",
            "A value is trying to be set on a copy of a slice from a DataFrame.\n",
            "Try using .loc[row_indexer,col_indexer] = value instead\n",
            "\n",
            "See the caveats in the documentation: https://pandas.pydata.org/pandas-docs/stable/user_guide/indexing.html#returning-a-view-versus-a-copy\n",
            "  df_gpt.Name = 'Chat GPT'\n",
            "<ipython-input-114-64e6268072fc>:7: SettingWithCopyWarning: \n",
            "A value is trying to be set on a copy of a slice from a DataFrame.\n",
            "Try using .loc[row_indexer,col_indexer] = value instead\n",
            "\n",
            "See the caveats in the documentation: https://pandas.pydata.org/pandas-docs/stable/user_guide/indexing.html#returning-a-view-versus-a-copy\n",
            "  df_gpt['BookTitle'] = df_gpt.apply(lambda x: 'ChatGPT_{0}'.format(x['BookTitle']), axis=1)\n",
            "<ipython-input-114-64e6268072fc>:8: SettingWithCopyWarning: \n",
            "A value is trying to be set on a copy of a slice from a DataFrame.\n",
            "Try using .loc[row_indexer,col_indexer] = value instead\n",
            "\n",
            "See the caveats in the documentation: https://pandas.pydata.org/pandas-docs/stable/user_guide/indexing.html#returning-a-view-versus-a-copy\n",
            "  df_gpt.Source = 'Chat GPT'\n",
            "<ipython-input-114-64e6268072fc>:11: SettingWithCopyWarning: \n",
            "A value is trying to be set on a copy of a slice from a DataFrame\n",
            "\n",
            "See the caveats in the documentation: https://pandas.pydata.org/pandas-docs/stable/user_guide/indexing.html#returning-a-view-versus-a-copy\n",
            "  df_ACD_train.drop(columns=['ChatGPTText', 'OldChatGPTText', 'OldBookText'], axis=1, inplace=True)\n",
            "<ipython-input-114-64e6268072fc>:5: SettingWithCopyWarning: \n",
            "A value is trying to be set on a copy of a slice from a DataFrame.\n",
            "Try using .loc[row_indexer,col_indexer] = value instead\n",
            "\n",
            "See the caveats in the documentation: https://pandas.pydata.org/pandas-docs/stable/user_guide/indexing.html#returning-a-view-versus-a-copy\n",
            "  df_gpt.AuthorID = 9999\n",
            "<ipython-input-114-64e6268072fc>:6: SettingWithCopyWarning: \n",
            "A value is trying to be set on a copy of a slice from a DataFrame.\n",
            "Try using .loc[row_indexer,col_indexer] = value instead\n",
            "\n",
            "See the caveats in the documentation: https://pandas.pydata.org/pandas-docs/stable/user_guide/indexing.html#returning-a-view-versus-a-copy\n",
            "  df_gpt.Name = 'Chat GPT'\n",
            "<ipython-input-114-64e6268072fc>:7: SettingWithCopyWarning: \n",
            "A value is trying to be set on a copy of a slice from a DataFrame.\n",
            "Try using .loc[row_indexer,col_indexer] = value instead\n",
            "\n",
            "See the caveats in the documentation: https://pandas.pydata.org/pandas-docs/stable/user_guide/indexing.html#returning-a-view-versus-a-copy\n",
            "  df_gpt['BookTitle'] = df_gpt.apply(lambda x: 'ChatGPT_{0}'.format(x['BookTitle']), axis=1)\n",
            "<ipython-input-114-64e6268072fc>:8: SettingWithCopyWarning: \n",
            "A value is trying to be set on a copy of a slice from a DataFrame.\n",
            "Try using .loc[row_indexer,col_indexer] = value instead\n",
            "\n",
            "See the caveats in the documentation: https://pandas.pydata.org/pandas-docs/stable/user_guide/indexing.html#returning-a-view-versus-a-copy\n",
            "  df_gpt.Source = 'Chat GPT'\n",
            "<ipython-input-114-64e6268072fc>:11: SettingWithCopyWarning: \n",
            "A value is trying to be set on a copy of a slice from a DataFrame\n",
            "\n",
            "See the caveats in the documentation: https://pandas.pydata.org/pandas-docs/stable/user_guide/indexing.html#returning-a-view-versus-a-copy\n",
            "  df_ACD_train.drop(columns=['ChatGPTText', 'OldChatGPTText', 'OldBookText'], axis=1, inplace=True)\n",
            "<ipython-input-114-64e6268072fc>:5: SettingWithCopyWarning: \n",
            "A value is trying to be set on a copy of a slice from a DataFrame.\n",
            "Try using .loc[row_indexer,col_indexer] = value instead\n",
            "\n",
            "See the caveats in the documentation: https://pandas.pydata.org/pandas-docs/stable/user_guide/indexing.html#returning-a-view-versus-a-copy\n",
            "  df_gpt.AuthorID = 9999\n",
            "<ipython-input-114-64e6268072fc>:6: SettingWithCopyWarning: \n",
            "A value is trying to be set on a copy of a slice from a DataFrame.\n",
            "Try using .loc[row_indexer,col_indexer] = value instead\n",
            "\n",
            "See the caveats in the documentation: https://pandas.pydata.org/pandas-docs/stable/user_guide/indexing.html#returning-a-view-versus-a-copy\n",
            "  df_gpt.Name = 'Chat GPT'\n",
            "<ipython-input-114-64e6268072fc>:7: SettingWithCopyWarning: \n",
            "A value is trying to be set on a copy of a slice from a DataFrame.\n",
            "Try using .loc[row_indexer,col_indexer] = value instead\n",
            "\n",
            "See the caveats in the documentation: https://pandas.pydata.org/pandas-docs/stable/user_guide/indexing.html#returning-a-view-versus-a-copy\n",
            "  df_gpt['BookTitle'] = df_gpt.apply(lambda x: 'ChatGPT_{0}'.format(x['BookTitle']), axis=1)\n",
            "<ipython-input-114-64e6268072fc>:8: SettingWithCopyWarning: \n",
            "A value is trying to be set on a copy of a slice from a DataFrame.\n",
            "Try using .loc[row_indexer,col_indexer] = value instead\n",
            "\n",
            "See the caveats in the documentation: https://pandas.pydata.org/pandas-docs/stable/user_guide/indexing.html#returning-a-view-versus-a-copy\n",
            "  df_gpt.Source = 'Chat GPT'\n",
            "<ipython-input-114-64e6268072fc>:11: SettingWithCopyWarning: \n",
            "A value is trying to be set on a copy of a slice from a DataFrame\n",
            "\n",
            "See the caveats in the documentation: https://pandas.pydata.org/pandas-docs/stable/user_guide/indexing.html#returning-a-view-versus-a-copy\n",
            "  df_ACD_train.drop(columns=['ChatGPTText', 'OldChatGPTText', 'OldBookText'], axis=1, inplace=True)\n",
            "<ipython-input-114-64e6268072fc>:5: SettingWithCopyWarning: \n",
            "A value is trying to be set on a copy of a slice from a DataFrame.\n",
            "Try using .loc[row_indexer,col_indexer] = value instead\n",
            "\n",
            "See the caveats in the documentation: https://pandas.pydata.org/pandas-docs/stable/user_guide/indexing.html#returning-a-view-versus-a-copy\n",
            "  df_gpt.AuthorID = 9999\n",
            "<ipython-input-114-64e6268072fc>:6: SettingWithCopyWarning: \n",
            "A value is trying to be set on a copy of a slice from a DataFrame.\n",
            "Try using .loc[row_indexer,col_indexer] = value instead\n",
            "\n",
            "See the caveats in the documentation: https://pandas.pydata.org/pandas-docs/stable/user_guide/indexing.html#returning-a-view-versus-a-copy\n",
            "  df_gpt.Name = 'Chat GPT'\n",
            "<ipython-input-114-64e6268072fc>:7: SettingWithCopyWarning: \n",
            "A value is trying to be set on a copy of a slice from a DataFrame.\n",
            "Try using .loc[row_indexer,col_indexer] = value instead\n",
            "\n",
            "See the caveats in the documentation: https://pandas.pydata.org/pandas-docs/stable/user_guide/indexing.html#returning-a-view-versus-a-copy\n",
            "  df_gpt['BookTitle'] = df_gpt.apply(lambda x: 'ChatGPT_{0}'.format(x['BookTitle']), axis=1)\n",
            "<ipython-input-114-64e6268072fc>:8: SettingWithCopyWarning: \n",
            "A value is trying to be set on a copy of a slice from a DataFrame.\n",
            "Try using .loc[row_indexer,col_indexer] = value instead\n",
            "\n",
            "See the caveats in the documentation: https://pandas.pydata.org/pandas-docs/stable/user_guide/indexing.html#returning-a-view-versus-a-copy\n",
            "  df_gpt.Source = 'Chat GPT'\n",
            "<ipython-input-114-64e6268072fc>:11: SettingWithCopyWarning: \n",
            "A value is trying to be set on a copy of a slice from a DataFrame\n",
            "\n",
            "See the caveats in the documentation: https://pandas.pydata.org/pandas-docs/stable/user_guide/indexing.html#returning-a-view-versus-a-copy\n",
            "  df_ACD_train.drop(columns=['ChatGPTText', 'OldChatGPTText', 'OldBookText'], axis=1, inplace=True)\n",
            "<ipython-input-114-64e6268072fc>:5: SettingWithCopyWarning: \n",
            "A value is trying to be set on a copy of a slice from a DataFrame.\n",
            "Try using .loc[row_indexer,col_indexer] = value instead\n",
            "\n",
            "See the caveats in the documentation: https://pandas.pydata.org/pandas-docs/stable/user_guide/indexing.html#returning-a-view-versus-a-copy\n",
            "  df_gpt.AuthorID = 9999\n",
            "<ipython-input-114-64e6268072fc>:6: SettingWithCopyWarning: \n",
            "A value is trying to be set on a copy of a slice from a DataFrame.\n",
            "Try using .loc[row_indexer,col_indexer] = value instead\n",
            "\n",
            "See the caveats in the documentation: https://pandas.pydata.org/pandas-docs/stable/user_guide/indexing.html#returning-a-view-versus-a-copy\n",
            "  df_gpt.Name = 'Chat GPT'\n",
            "<ipython-input-114-64e6268072fc>:7: SettingWithCopyWarning: \n",
            "A value is trying to be set on a copy of a slice from a DataFrame.\n",
            "Try using .loc[row_indexer,col_indexer] = value instead\n",
            "\n",
            "See the caveats in the documentation: https://pandas.pydata.org/pandas-docs/stable/user_guide/indexing.html#returning-a-view-versus-a-copy\n",
            "  df_gpt['BookTitle'] = df_gpt.apply(lambda x: 'ChatGPT_{0}'.format(x['BookTitle']), axis=1)\n",
            "<ipython-input-114-64e6268072fc>:8: SettingWithCopyWarning: \n",
            "A value is trying to be set on a copy of a slice from a DataFrame.\n",
            "Try using .loc[row_indexer,col_indexer] = value instead\n",
            "\n",
            "See the caveats in the documentation: https://pandas.pydata.org/pandas-docs/stable/user_guide/indexing.html#returning-a-view-versus-a-copy\n",
            "  df_gpt.Source = 'Chat GPT'\n",
            "<ipython-input-114-64e6268072fc>:11: SettingWithCopyWarning: \n",
            "A value is trying to be set on a copy of a slice from a DataFrame\n",
            "\n",
            "See the caveats in the documentation: https://pandas.pydata.org/pandas-docs/stable/user_guide/indexing.html#returning-a-view-versus-a-copy\n",
            "  df_ACD_train.drop(columns=['ChatGPTText', 'OldChatGPTText', 'OldBookText'], axis=1, inplace=True)\n",
            "<ipython-input-114-64e6268072fc>:5: SettingWithCopyWarning: \n",
            "A value is trying to be set on a copy of a slice from a DataFrame.\n",
            "Try using .loc[row_indexer,col_indexer] = value instead\n",
            "\n",
            "See the caveats in the documentation: https://pandas.pydata.org/pandas-docs/stable/user_guide/indexing.html#returning-a-view-versus-a-copy\n",
            "  df_gpt.AuthorID = 9999\n",
            "<ipython-input-114-64e6268072fc>:6: SettingWithCopyWarning: \n",
            "A value is trying to be set on a copy of a slice from a DataFrame.\n",
            "Try using .loc[row_indexer,col_indexer] = value instead\n",
            "\n",
            "See the caveats in the documentation: https://pandas.pydata.org/pandas-docs/stable/user_guide/indexing.html#returning-a-view-versus-a-copy\n",
            "  df_gpt.Name = 'Chat GPT'\n",
            "<ipython-input-114-64e6268072fc>:7: SettingWithCopyWarning: \n",
            "A value is trying to be set on a copy of a slice from a DataFrame.\n",
            "Try using .loc[row_indexer,col_indexer] = value instead\n",
            "\n",
            "See the caveats in the documentation: https://pandas.pydata.org/pandas-docs/stable/user_guide/indexing.html#returning-a-view-versus-a-copy\n",
            "  df_gpt['BookTitle'] = df_gpt.apply(lambda x: 'ChatGPT_{0}'.format(x['BookTitle']), axis=1)\n",
            "<ipython-input-114-64e6268072fc>:8: SettingWithCopyWarning: \n",
            "A value is trying to be set on a copy of a slice from a DataFrame.\n",
            "Try using .loc[row_indexer,col_indexer] = value instead\n",
            "\n",
            "See the caveats in the documentation: https://pandas.pydata.org/pandas-docs/stable/user_guide/indexing.html#returning-a-view-versus-a-copy\n",
            "  df_gpt.Source = 'Chat GPT'\n",
            "<ipython-input-114-64e6268072fc>:11: SettingWithCopyWarning: \n",
            "A value is trying to be set on a copy of a slice from a DataFrame\n",
            "\n",
            "See the caveats in the documentation: https://pandas.pydata.org/pandas-docs/stable/user_guide/indexing.html#returning-a-view-versus-a-copy\n",
            "  df_ACD_train.drop(columns=['ChatGPTText', 'OldChatGPTText', 'OldBookText'], axis=1, inplace=True)\n",
            "<ipython-input-114-64e6268072fc>:5: SettingWithCopyWarning: \n",
            "A value is trying to be set on a copy of a slice from a DataFrame.\n",
            "Try using .loc[row_indexer,col_indexer] = value instead\n",
            "\n",
            "See the caveats in the documentation: https://pandas.pydata.org/pandas-docs/stable/user_guide/indexing.html#returning-a-view-versus-a-copy\n",
            "  df_gpt.AuthorID = 9999\n",
            "<ipython-input-114-64e6268072fc>:6: SettingWithCopyWarning: \n",
            "A value is trying to be set on a copy of a slice from a DataFrame.\n",
            "Try using .loc[row_indexer,col_indexer] = value instead\n",
            "\n",
            "See the caveats in the documentation: https://pandas.pydata.org/pandas-docs/stable/user_guide/indexing.html#returning-a-view-versus-a-copy\n",
            "  df_gpt.Name = 'Chat GPT'\n",
            "<ipython-input-114-64e6268072fc>:7: SettingWithCopyWarning: \n",
            "A value is trying to be set on a copy of a slice from a DataFrame.\n",
            "Try using .loc[row_indexer,col_indexer] = value instead\n",
            "\n",
            "See the caveats in the documentation: https://pandas.pydata.org/pandas-docs/stable/user_guide/indexing.html#returning-a-view-versus-a-copy\n",
            "  df_gpt['BookTitle'] = df_gpt.apply(lambda x: 'ChatGPT_{0}'.format(x['BookTitle']), axis=1)\n",
            "<ipython-input-114-64e6268072fc>:8: SettingWithCopyWarning: \n",
            "A value is trying to be set on a copy of a slice from a DataFrame.\n",
            "Try using .loc[row_indexer,col_indexer] = value instead\n",
            "\n",
            "See the caveats in the documentation: https://pandas.pydata.org/pandas-docs/stable/user_guide/indexing.html#returning-a-view-versus-a-copy\n",
            "  df_gpt.Source = 'Chat GPT'\n",
            "<ipython-input-114-64e6268072fc>:11: SettingWithCopyWarning: \n",
            "A value is trying to be set on a copy of a slice from a DataFrame\n",
            "\n",
            "See the caveats in the documentation: https://pandas.pydata.org/pandas-docs/stable/user_guide/indexing.html#returning-a-view-versus-a-copy\n",
            "  df_ACD_train.drop(columns=['ChatGPTText', 'OldChatGPTText', 'OldBookText'], axis=1, inplace=True)\n",
            "<ipython-input-114-64e6268072fc>:5: SettingWithCopyWarning: \n",
            "A value is trying to be set on a copy of a slice from a DataFrame.\n",
            "Try using .loc[row_indexer,col_indexer] = value instead\n",
            "\n",
            "See the caveats in the documentation: https://pandas.pydata.org/pandas-docs/stable/user_guide/indexing.html#returning-a-view-versus-a-copy\n",
            "  df_gpt.AuthorID = 9999\n",
            "<ipython-input-114-64e6268072fc>:6: SettingWithCopyWarning: \n",
            "A value is trying to be set on a copy of a slice from a DataFrame.\n",
            "Try using .loc[row_indexer,col_indexer] = value instead\n",
            "\n",
            "See the caveats in the documentation: https://pandas.pydata.org/pandas-docs/stable/user_guide/indexing.html#returning-a-view-versus-a-copy\n",
            "  df_gpt.Name = 'Chat GPT'\n",
            "<ipython-input-114-64e6268072fc>:7: SettingWithCopyWarning: \n",
            "A value is trying to be set on a copy of a slice from a DataFrame.\n",
            "Try using .loc[row_indexer,col_indexer] = value instead\n",
            "\n",
            "See the caveats in the documentation: https://pandas.pydata.org/pandas-docs/stable/user_guide/indexing.html#returning-a-view-versus-a-copy\n",
            "  df_gpt['BookTitle'] = df_gpt.apply(lambda x: 'ChatGPT_{0}'.format(x['BookTitle']), axis=1)\n",
            "<ipython-input-114-64e6268072fc>:8: SettingWithCopyWarning: \n",
            "A value is trying to be set on a copy of a slice from a DataFrame.\n",
            "Try using .loc[row_indexer,col_indexer] = value instead\n",
            "\n",
            "See the caveats in the documentation: https://pandas.pydata.org/pandas-docs/stable/user_guide/indexing.html#returning-a-view-versus-a-copy\n",
            "  df_gpt.Source = 'Chat GPT'\n",
            "<ipython-input-114-64e6268072fc>:11: SettingWithCopyWarning: \n",
            "A value is trying to be set on a copy of a slice from a DataFrame\n",
            "\n",
            "See the caveats in the documentation: https://pandas.pydata.org/pandas-docs/stable/user_guide/indexing.html#returning-a-view-versus-a-copy\n",
            "  df_ACD_train.drop(columns=['ChatGPTText', 'OldChatGPTText', 'OldBookText'], axis=1, inplace=True)\n",
            "<ipython-input-114-64e6268072fc>:5: SettingWithCopyWarning: \n",
            "A value is trying to be set on a copy of a slice from a DataFrame.\n",
            "Try using .loc[row_indexer,col_indexer] = value instead\n",
            "\n",
            "See the caveats in the documentation: https://pandas.pydata.org/pandas-docs/stable/user_guide/indexing.html#returning-a-view-versus-a-copy\n",
            "  df_gpt.AuthorID = 9999\n",
            "<ipython-input-114-64e6268072fc>:6: SettingWithCopyWarning: \n",
            "A value is trying to be set on a copy of a slice from a DataFrame.\n",
            "Try using .loc[row_indexer,col_indexer] = value instead\n",
            "\n",
            "See the caveats in the documentation: https://pandas.pydata.org/pandas-docs/stable/user_guide/indexing.html#returning-a-view-versus-a-copy\n",
            "  df_gpt.Name = 'Chat GPT'\n",
            "<ipython-input-114-64e6268072fc>:7: SettingWithCopyWarning: \n",
            "A value is trying to be set on a copy of a slice from a DataFrame.\n",
            "Try using .loc[row_indexer,col_indexer] = value instead\n",
            "\n",
            "See the caveats in the documentation: https://pandas.pydata.org/pandas-docs/stable/user_guide/indexing.html#returning-a-view-versus-a-copy\n",
            "  df_gpt['BookTitle'] = df_gpt.apply(lambda x: 'ChatGPT_{0}'.format(x['BookTitle']), axis=1)\n",
            "<ipython-input-114-64e6268072fc>:8: SettingWithCopyWarning: \n",
            "A value is trying to be set on a copy of a slice from a DataFrame.\n",
            "Try using .loc[row_indexer,col_indexer] = value instead\n",
            "\n",
            "See the caveats in the documentation: https://pandas.pydata.org/pandas-docs/stable/user_guide/indexing.html#returning-a-view-versus-a-copy\n",
            "  df_gpt.Source = 'Chat GPT'\n",
            "<ipython-input-114-64e6268072fc>:11: SettingWithCopyWarning: \n",
            "A value is trying to be set on a copy of a slice from a DataFrame\n",
            "\n",
            "See the caveats in the documentation: https://pandas.pydata.org/pandas-docs/stable/user_guide/indexing.html#returning-a-view-versus-a-copy\n",
            "  df_ACD_train.drop(columns=['ChatGPTText', 'OldChatGPTText', 'OldBookText'], axis=1, inplace=True)\n",
            "<ipython-input-114-64e6268072fc>:5: SettingWithCopyWarning: \n",
            "A value is trying to be set on a copy of a slice from a DataFrame.\n",
            "Try using .loc[row_indexer,col_indexer] = value instead\n",
            "\n",
            "See the caveats in the documentation: https://pandas.pydata.org/pandas-docs/stable/user_guide/indexing.html#returning-a-view-versus-a-copy\n",
            "  df_gpt.AuthorID = 9999\n",
            "<ipython-input-114-64e6268072fc>:6: SettingWithCopyWarning: \n",
            "A value is trying to be set on a copy of a slice from a DataFrame.\n",
            "Try using .loc[row_indexer,col_indexer] = value instead\n",
            "\n",
            "See the caveats in the documentation: https://pandas.pydata.org/pandas-docs/stable/user_guide/indexing.html#returning-a-view-versus-a-copy\n",
            "  df_gpt.Name = 'Chat GPT'\n",
            "<ipython-input-114-64e6268072fc>:7: SettingWithCopyWarning: \n",
            "A value is trying to be set on a copy of a slice from a DataFrame.\n",
            "Try using .loc[row_indexer,col_indexer] = value instead\n",
            "\n",
            "See the caveats in the documentation: https://pandas.pydata.org/pandas-docs/stable/user_guide/indexing.html#returning-a-view-versus-a-copy\n",
            "  df_gpt['BookTitle'] = df_gpt.apply(lambda x: 'ChatGPT_{0}'.format(x['BookTitle']), axis=1)\n",
            "<ipython-input-114-64e6268072fc>:8: SettingWithCopyWarning: \n",
            "A value is trying to be set on a copy of a slice from a DataFrame.\n",
            "Try using .loc[row_indexer,col_indexer] = value instead\n",
            "\n",
            "See the caveats in the documentation: https://pandas.pydata.org/pandas-docs/stable/user_guide/indexing.html#returning-a-view-versus-a-copy\n",
            "  df_gpt.Source = 'Chat GPT'\n",
            "<ipython-input-114-64e6268072fc>:11: SettingWithCopyWarning: \n",
            "A value is trying to be set on a copy of a slice from a DataFrame\n",
            "\n",
            "See the caveats in the documentation: https://pandas.pydata.org/pandas-docs/stable/user_guide/indexing.html#returning-a-view-versus-a-copy\n",
            "  df_ACD_train.drop(columns=['ChatGPTText', 'OldChatGPTText', 'OldBookText'], axis=1, inplace=True)\n",
            "<ipython-input-114-64e6268072fc>:5: SettingWithCopyWarning: \n",
            "A value is trying to be set on a copy of a slice from a DataFrame.\n",
            "Try using .loc[row_indexer,col_indexer] = value instead\n",
            "\n",
            "See the caveats in the documentation: https://pandas.pydata.org/pandas-docs/stable/user_guide/indexing.html#returning-a-view-versus-a-copy\n",
            "  df_gpt.AuthorID = 9999\n",
            "<ipython-input-114-64e6268072fc>:6: SettingWithCopyWarning: \n",
            "A value is trying to be set on a copy of a slice from a DataFrame.\n",
            "Try using .loc[row_indexer,col_indexer] = value instead\n",
            "\n",
            "See the caveats in the documentation: https://pandas.pydata.org/pandas-docs/stable/user_guide/indexing.html#returning-a-view-versus-a-copy\n",
            "  df_gpt.Name = 'Chat GPT'\n",
            "<ipython-input-114-64e6268072fc>:7: SettingWithCopyWarning: \n",
            "A value is trying to be set on a copy of a slice from a DataFrame.\n",
            "Try using .loc[row_indexer,col_indexer] = value instead\n",
            "\n",
            "See the caveats in the documentation: https://pandas.pydata.org/pandas-docs/stable/user_guide/indexing.html#returning-a-view-versus-a-copy\n",
            "  df_gpt['BookTitle'] = df_gpt.apply(lambda x: 'ChatGPT_{0}'.format(x['BookTitle']), axis=1)\n",
            "<ipython-input-114-64e6268072fc>:8: SettingWithCopyWarning: \n",
            "A value is trying to be set on a copy of a slice from a DataFrame.\n",
            "Try using .loc[row_indexer,col_indexer] = value instead\n",
            "\n",
            "See the caveats in the documentation: https://pandas.pydata.org/pandas-docs/stable/user_guide/indexing.html#returning-a-view-versus-a-copy\n",
            "  df_gpt.Source = 'Chat GPT'\n",
            "<ipython-input-114-64e6268072fc>:11: SettingWithCopyWarning: \n",
            "A value is trying to be set on a copy of a slice from a DataFrame\n",
            "\n",
            "See the caveats in the documentation: https://pandas.pydata.org/pandas-docs/stable/user_guide/indexing.html#returning-a-view-versus-a-copy\n",
            "  df_ACD_train.drop(columns=['ChatGPTText', 'OldChatGPTText', 'OldBookText'], axis=1, inplace=True)\n",
            "<ipython-input-114-64e6268072fc>:5: SettingWithCopyWarning: \n",
            "A value is trying to be set on a copy of a slice from a DataFrame.\n",
            "Try using .loc[row_indexer,col_indexer] = value instead\n",
            "\n",
            "See the caveats in the documentation: https://pandas.pydata.org/pandas-docs/stable/user_guide/indexing.html#returning-a-view-versus-a-copy\n",
            "  df_gpt.AuthorID = 9999\n",
            "<ipython-input-114-64e6268072fc>:6: SettingWithCopyWarning: \n",
            "A value is trying to be set on a copy of a slice from a DataFrame.\n",
            "Try using .loc[row_indexer,col_indexer] = value instead\n",
            "\n",
            "See the caveats in the documentation: https://pandas.pydata.org/pandas-docs/stable/user_guide/indexing.html#returning-a-view-versus-a-copy\n",
            "  df_gpt.Name = 'Chat GPT'\n",
            "<ipython-input-114-64e6268072fc>:7: SettingWithCopyWarning: \n",
            "A value is trying to be set on a copy of a slice from a DataFrame.\n",
            "Try using .loc[row_indexer,col_indexer] = value instead\n",
            "\n",
            "See the caveats in the documentation: https://pandas.pydata.org/pandas-docs/stable/user_guide/indexing.html#returning-a-view-versus-a-copy\n",
            "  df_gpt['BookTitle'] = df_gpt.apply(lambda x: 'ChatGPT_{0}'.format(x['BookTitle']), axis=1)\n",
            "<ipython-input-114-64e6268072fc>:8: SettingWithCopyWarning: \n",
            "A value is trying to be set on a copy of a slice from a DataFrame.\n",
            "Try using .loc[row_indexer,col_indexer] = value instead\n",
            "\n",
            "See the caveats in the documentation: https://pandas.pydata.org/pandas-docs/stable/user_guide/indexing.html#returning-a-view-versus-a-copy\n",
            "  df_gpt.Source = 'Chat GPT'\n",
            "<ipython-input-114-64e6268072fc>:11: SettingWithCopyWarning: \n",
            "A value is trying to be set on a copy of a slice from a DataFrame\n",
            "\n",
            "See the caveats in the documentation: https://pandas.pydata.org/pandas-docs/stable/user_guide/indexing.html#returning-a-view-versus-a-copy\n",
            "  df_ACD_train.drop(columns=['ChatGPTText', 'OldChatGPTText', 'OldBookText'], axis=1, inplace=True)\n",
            "<ipython-input-114-64e6268072fc>:5: SettingWithCopyWarning: \n",
            "A value is trying to be set on a copy of a slice from a DataFrame.\n",
            "Try using .loc[row_indexer,col_indexer] = value instead\n",
            "\n",
            "See the caveats in the documentation: https://pandas.pydata.org/pandas-docs/stable/user_guide/indexing.html#returning-a-view-versus-a-copy\n",
            "  df_gpt.AuthorID = 9999\n",
            "<ipython-input-114-64e6268072fc>:6: SettingWithCopyWarning: \n",
            "A value is trying to be set on a copy of a slice from a DataFrame.\n",
            "Try using .loc[row_indexer,col_indexer] = value instead\n",
            "\n",
            "See the caveats in the documentation: https://pandas.pydata.org/pandas-docs/stable/user_guide/indexing.html#returning-a-view-versus-a-copy\n",
            "  df_gpt.Name = 'Chat GPT'\n",
            "<ipython-input-114-64e6268072fc>:7: SettingWithCopyWarning: \n",
            "A value is trying to be set on a copy of a slice from a DataFrame.\n",
            "Try using .loc[row_indexer,col_indexer] = value instead\n",
            "\n",
            "See the caveats in the documentation: https://pandas.pydata.org/pandas-docs/stable/user_guide/indexing.html#returning-a-view-versus-a-copy\n",
            "  df_gpt['BookTitle'] = df_gpt.apply(lambda x: 'ChatGPT_{0}'.format(x['BookTitle']), axis=1)\n",
            "<ipython-input-114-64e6268072fc>:8: SettingWithCopyWarning: \n",
            "A value is trying to be set on a copy of a slice from a DataFrame.\n",
            "Try using .loc[row_indexer,col_indexer] = value instead\n",
            "\n",
            "See the caveats in the documentation: https://pandas.pydata.org/pandas-docs/stable/user_guide/indexing.html#returning-a-view-versus-a-copy\n",
            "  df_gpt.Source = 'Chat GPT'\n",
            "<ipython-input-114-64e6268072fc>:11: SettingWithCopyWarning: \n",
            "A value is trying to be set on a copy of a slice from a DataFrame\n",
            "\n",
            "See the caveats in the documentation: https://pandas.pydata.org/pandas-docs/stable/user_guide/indexing.html#returning-a-view-versus-a-copy\n",
            "  df_ACD_train.drop(columns=['ChatGPTText', 'OldChatGPTText', 'OldBookText'], axis=1, inplace=True)\n",
            "<ipython-input-114-64e6268072fc>:5: SettingWithCopyWarning: \n",
            "A value is trying to be set on a copy of a slice from a DataFrame.\n",
            "Try using .loc[row_indexer,col_indexer] = value instead\n",
            "\n",
            "See the caveats in the documentation: https://pandas.pydata.org/pandas-docs/stable/user_guide/indexing.html#returning-a-view-versus-a-copy\n",
            "  df_gpt.AuthorID = 9999\n",
            "<ipython-input-114-64e6268072fc>:6: SettingWithCopyWarning: \n",
            "A value is trying to be set on a copy of a slice from a DataFrame.\n",
            "Try using .loc[row_indexer,col_indexer] = value instead\n",
            "\n",
            "See the caveats in the documentation: https://pandas.pydata.org/pandas-docs/stable/user_guide/indexing.html#returning-a-view-versus-a-copy\n",
            "  df_gpt.Name = 'Chat GPT'\n",
            "<ipython-input-114-64e6268072fc>:7: SettingWithCopyWarning: \n",
            "A value is trying to be set on a copy of a slice from a DataFrame.\n",
            "Try using .loc[row_indexer,col_indexer] = value instead\n",
            "\n",
            "See the caveats in the documentation: https://pandas.pydata.org/pandas-docs/stable/user_guide/indexing.html#returning-a-view-versus-a-copy\n",
            "  df_gpt['BookTitle'] = df_gpt.apply(lambda x: 'ChatGPT_{0}'.format(x['BookTitle']), axis=1)\n",
            "<ipython-input-114-64e6268072fc>:8: SettingWithCopyWarning: \n",
            "A value is trying to be set on a copy of a slice from a DataFrame.\n",
            "Try using .loc[row_indexer,col_indexer] = value instead\n",
            "\n",
            "See the caveats in the documentation: https://pandas.pydata.org/pandas-docs/stable/user_guide/indexing.html#returning-a-view-versus-a-copy\n",
            "  df_gpt.Source = 'Chat GPT'\n",
            "<ipython-input-114-64e6268072fc>:11: SettingWithCopyWarning: \n",
            "A value is trying to be set on a copy of a slice from a DataFrame\n",
            "\n",
            "See the caveats in the documentation: https://pandas.pydata.org/pandas-docs/stable/user_guide/indexing.html#returning-a-view-versus-a-copy\n",
            "  df_ACD_train.drop(columns=['ChatGPTText', 'OldChatGPTText', 'OldBookText'], axis=1, inplace=True)\n",
            "<ipython-input-114-64e6268072fc>:5: SettingWithCopyWarning: \n",
            "A value is trying to be set on a copy of a slice from a DataFrame.\n",
            "Try using .loc[row_indexer,col_indexer] = value instead\n",
            "\n",
            "See the caveats in the documentation: https://pandas.pydata.org/pandas-docs/stable/user_guide/indexing.html#returning-a-view-versus-a-copy\n",
            "  df_gpt.AuthorID = 9999\n",
            "<ipython-input-114-64e6268072fc>:6: SettingWithCopyWarning: \n",
            "A value is trying to be set on a copy of a slice from a DataFrame.\n",
            "Try using .loc[row_indexer,col_indexer] = value instead\n",
            "\n",
            "See the caveats in the documentation: https://pandas.pydata.org/pandas-docs/stable/user_guide/indexing.html#returning-a-view-versus-a-copy\n",
            "  df_gpt.Name = 'Chat GPT'\n",
            "<ipython-input-114-64e6268072fc>:7: SettingWithCopyWarning: \n",
            "A value is trying to be set on a copy of a slice from a DataFrame.\n",
            "Try using .loc[row_indexer,col_indexer] = value instead\n",
            "\n",
            "See the caveats in the documentation: https://pandas.pydata.org/pandas-docs/stable/user_guide/indexing.html#returning-a-view-versus-a-copy\n",
            "  df_gpt['BookTitle'] = df_gpt.apply(lambda x: 'ChatGPT_{0}'.format(x['BookTitle']), axis=1)\n",
            "<ipython-input-114-64e6268072fc>:8: SettingWithCopyWarning: \n",
            "A value is trying to be set on a copy of a slice from a DataFrame.\n",
            "Try using .loc[row_indexer,col_indexer] = value instead\n",
            "\n",
            "See the caveats in the documentation: https://pandas.pydata.org/pandas-docs/stable/user_guide/indexing.html#returning-a-view-versus-a-copy\n",
            "  df_gpt.Source = 'Chat GPT'\n",
            "<ipython-input-114-64e6268072fc>:11: SettingWithCopyWarning: \n",
            "A value is trying to be set on a copy of a slice from a DataFrame\n",
            "\n",
            "See the caveats in the documentation: https://pandas.pydata.org/pandas-docs/stable/user_guide/indexing.html#returning-a-view-versus-a-copy\n",
            "  df_ACD_train.drop(columns=['ChatGPTText', 'OldChatGPTText', 'OldBookText'], axis=1, inplace=True)\n"
          ]
        }
      ]
    },
    {
      "cell_type": "markdown",
      "source": [
        "# RQ2: ChatGPT with Others - Multi"
      ],
      "metadata": {
        "id": "qoMS8W5HRr0e"
      }
    },
    {
      "cell_type": "code",
      "source": [
        "def create_multi_datasets(dataset, path):\n",
        "  df_gpt = dataset[['BookID', 'AuthorID', 'Name','BookTitle', 'Genre', 'ChatGPTText', 'Source']]\n",
        "  df_gpt.AuthorID = 9999\n",
        "  df_gpt.Name = 'Chat GPT'\n",
        "  df_gpt['BookTitle'] = df_gpt.apply(lambda x: 'ChatGPT_{0}'.format(x['BookTitle']), axis=1)\n",
        "  df_gpt.Source = 'Chat GPT'\n",
        "  df_gpt = df_gpt.rename(columns={'ChatGPTText': 'BookText'})\n",
        "\n",
        "  dataset.drop(columns=['ChatGPTText', 'OldChatGPTText', 'OldBookText'], axis=1, inplace=True)\n",
        "  result = pd.concat([dataset, df_gpt])\n",
        "\n",
        "  result.to_csv(f'{path}', index=False)"
      ],
      "metadata": {
        "id": "BBSh9NrnR4yI"
      },
      "execution_count": null,
      "outputs": []
    },
    {
      "cell_type": "code",
      "source": [
        "create_multi_datasets(train, '/content/ChatGPT/multi/train.csv')\n",
        "create_multi_datasets(test, '/content/ChatGPT/multi/test.csv')\n",
        "create_multi_datasets(val, '/content/ChatGPT/multi/val.csv')"
      ],
      "metadata": {
        "colab": {
          "base_uri": "https://localhost:8080/"
        },
        "id": "dPhw6pDdR4yI",
        "outputId": "4a47f7df-3fbf-43c9-80b5-fc5ec43e4930"
      },
      "execution_count": null,
      "outputs": [
        {
          "output_type": "stream",
          "name": "stderr",
          "text": [
            "<ipython-input-122-782e14d1c459>:3: SettingWithCopyWarning: \n",
            "A value is trying to be set on a copy of a slice from a DataFrame.\n",
            "Try using .loc[row_indexer,col_indexer] = value instead\n",
            "\n",
            "See the caveats in the documentation: https://pandas.pydata.org/pandas-docs/stable/user_guide/indexing.html#returning-a-view-versus-a-copy\n",
            "  df_gpt.AuthorID = 9999\n",
            "<ipython-input-122-782e14d1c459>:4: SettingWithCopyWarning: \n",
            "A value is trying to be set on a copy of a slice from a DataFrame.\n",
            "Try using .loc[row_indexer,col_indexer] = value instead\n",
            "\n",
            "See the caveats in the documentation: https://pandas.pydata.org/pandas-docs/stable/user_guide/indexing.html#returning-a-view-versus-a-copy\n",
            "  df_gpt.Name = 'Chat GPT'\n",
            "<ipython-input-122-782e14d1c459>:5: SettingWithCopyWarning: \n",
            "A value is trying to be set on a copy of a slice from a DataFrame.\n",
            "Try using .loc[row_indexer,col_indexer] = value instead\n",
            "\n",
            "See the caveats in the documentation: https://pandas.pydata.org/pandas-docs/stable/user_guide/indexing.html#returning-a-view-versus-a-copy\n",
            "  df_gpt['BookTitle'] = df_gpt.apply(lambda x: 'ChatGPT_{0}'.format(x['BookTitle']), axis=1)\n",
            "<ipython-input-122-782e14d1c459>:6: SettingWithCopyWarning: \n",
            "A value is trying to be set on a copy of a slice from a DataFrame.\n",
            "Try using .loc[row_indexer,col_indexer] = value instead\n",
            "\n",
            "See the caveats in the documentation: https://pandas.pydata.org/pandas-docs/stable/user_guide/indexing.html#returning-a-view-versus-a-copy\n",
            "  df_gpt.Source = 'Chat GPT'\n",
            "<ipython-input-122-782e14d1c459>:3: SettingWithCopyWarning: \n",
            "A value is trying to be set on a copy of a slice from a DataFrame.\n",
            "Try using .loc[row_indexer,col_indexer] = value instead\n",
            "\n",
            "See the caveats in the documentation: https://pandas.pydata.org/pandas-docs/stable/user_guide/indexing.html#returning-a-view-versus-a-copy\n",
            "  df_gpt.AuthorID = 9999\n",
            "<ipython-input-122-782e14d1c459>:4: SettingWithCopyWarning: \n",
            "A value is trying to be set on a copy of a slice from a DataFrame.\n",
            "Try using .loc[row_indexer,col_indexer] = value instead\n",
            "\n",
            "See the caveats in the documentation: https://pandas.pydata.org/pandas-docs/stable/user_guide/indexing.html#returning-a-view-versus-a-copy\n",
            "  df_gpt.Name = 'Chat GPT'\n",
            "<ipython-input-122-782e14d1c459>:5: SettingWithCopyWarning: \n",
            "A value is trying to be set on a copy of a slice from a DataFrame.\n",
            "Try using .loc[row_indexer,col_indexer] = value instead\n",
            "\n",
            "See the caveats in the documentation: https://pandas.pydata.org/pandas-docs/stable/user_guide/indexing.html#returning-a-view-versus-a-copy\n",
            "  df_gpt['BookTitle'] = df_gpt.apply(lambda x: 'ChatGPT_{0}'.format(x['BookTitle']), axis=1)\n",
            "<ipython-input-122-782e14d1c459>:6: SettingWithCopyWarning: \n",
            "A value is trying to be set on a copy of a slice from a DataFrame.\n",
            "Try using .loc[row_indexer,col_indexer] = value instead\n",
            "\n",
            "See the caveats in the documentation: https://pandas.pydata.org/pandas-docs/stable/user_guide/indexing.html#returning-a-view-versus-a-copy\n",
            "  df_gpt.Source = 'Chat GPT'\n",
            "<ipython-input-122-782e14d1c459>:3: SettingWithCopyWarning: \n",
            "A value is trying to be set on a copy of a slice from a DataFrame.\n",
            "Try using .loc[row_indexer,col_indexer] = value instead\n",
            "\n",
            "See the caveats in the documentation: https://pandas.pydata.org/pandas-docs/stable/user_guide/indexing.html#returning-a-view-versus-a-copy\n",
            "  df_gpt.AuthorID = 9999\n",
            "<ipython-input-122-782e14d1c459>:4: SettingWithCopyWarning: \n",
            "A value is trying to be set on a copy of a slice from a DataFrame.\n",
            "Try using .loc[row_indexer,col_indexer] = value instead\n",
            "\n",
            "See the caveats in the documentation: https://pandas.pydata.org/pandas-docs/stable/user_guide/indexing.html#returning-a-view-versus-a-copy\n",
            "  df_gpt.Name = 'Chat GPT'\n",
            "<ipython-input-122-782e14d1c459>:5: SettingWithCopyWarning: \n",
            "A value is trying to be set on a copy of a slice from a DataFrame.\n",
            "Try using .loc[row_indexer,col_indexer] = value instead\n",
            "\n",
            "See the caveats in the documentation: https://pandas.pydata.org/pandas-docs/stable/user_guide/indexing.html#returning-a-view-versus-a-copy\n",
            "  df_gpt['BookTitle'] = df_gpt.apply(lambda x: 'ChatGPT_{0}'.format(x['BookTitle']), axis=1)\n",
            "<ipython-input-122-782e14d1c459>:6: SettingWithCopyWarning: \n",
            "A value is trying to be set on a copy of a slice from a DataFrame.\n",
            "Try using .loc[row_indexer,col_indexer] = value instead\n",
            "\n",
            "See the caveats in the documentation: https://pandas.pydata.org/pandas-docs/stable/user_guide/indexing.html#returning-a-view-versus-a-copy\n",
            "  df_gpt.Source = 'Chat GPT'\n"
          ]
        }
      ]
    }
  ]
}